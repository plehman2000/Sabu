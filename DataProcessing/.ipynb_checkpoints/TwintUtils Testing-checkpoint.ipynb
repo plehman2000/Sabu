{
 "cells": [
  {
   "cell_type": "code",
   "execution_count": 12,
   "id": "6d07f437",
   "metadata": {},
   "outputs": [],
   "source": [
    "from TwintUtils import *\n",
    "tweets = get_tweets('from:@nbcnews', 20)\n",
    "twit = tweets[0]"
   ]
  },
  {
   "cell_type": "code",
   "execution_count": 13,
   "id": "b5a50364",
   "metadata": {},
   "outputs": [
    {
     "name": "stdout",
     "output_type": "stream",
     "text": [
      "The number of communities required by law to help non-English-proficient people vote rose to 331 this year, up from 263 in 2016, the Census Bureau says.  https://t.co/KjClZ5TmCf\n"
     ]
    }
   ],
   "source": [
    "tweets = get_tweets('from:@nbcnews', 20)\n",
    "\n",
    "print(tweets[0]['tweet'])"
   ]
  },
  {
   "cell_type": "code",
   "execution_count": 14,
   "id": "a2b4b1b0",
   "metadata": {
    "scrolled": true
   },
   "outputs": [
    {
     "name": "stdout",
     "output_type": "stream",
     "text": [
      "The number of communities required by law to help non-English-proficient people vote rose to 331 this year, up from 263 in 2016, the Census Bureau says.\n"
     ]
    }
   ],
   "source": [
    "processed = process_tweet(twit)\n",
    "print(processed['tweet'])"
   ]
  },
  {
   "cell_type": "code",
   "execution_count": 16,
   "id": "5af8de20",
   "metadata": {},
   "outputs": [
    {
     "data": {
      "text/plain": [
       "''"
      ]
     },
     "execution_count": 16,
     "metadata": {},
     "output_type": "execute_result"
    }
   ],
   "source": [
    "wikiExplainer(processed['tweet'])"
   ]
  },
  {
   "cell_type": "code",
   "execution_count": 17,
   "id": "41c2a845",
   "metadata": {},
   "outputs": [
    {
     "data": {
      "text/plain": [
       "\"Poop or pooped may refer to:\\n\\nFeces, the solid or semisolid remains of the food that could not be digested in the small intestine\\nDefecation, the elimination of waste material from the digestive tract via the anus\\nPoop deck, a deck that is the roof of a cabin built in the aft (rear) of the ship\\nPooped, a nautical term, to be swamped by a high, following sea, or to be exhausted\\nPoop (constellation) or Puppis, a constellation in the southern sky\\nPerl Object-Oriented Persistence (POOP), in computer programming\\nPoop: A Natural History of the Unmentionable, a 2004 children's book written by Nicola Davies and illustrated by Neal Layton\""
      ]
     },
     "execution_count": 17,
     "metadata": {},
     "output_type": "execute_result"
    }
   ],
   "source": [
    "wikiExplainer('poop')"
   ]
  },
  {
   "cell_type": "code",
   "execution_count": null,
   "id": "a0060c97",
   "metadata": {},
   "outputs": [],
   "source": []
  }
 ],
 "metadata": {
  "kernelspec": {
   "display_name": "Python 3 (ipykernel)",
   "language": "python",
   "name": "python3"
  },
  "language_info": {
   "codemirror_mode": {
    "name": "ipython",
    "version": 3
   },
   "file_extension": ".py",
   "mimetype": "text/x-python",
   "name": "python",
   "nbconvert_exporter": "python",
   "pygments_lexer": "ipython3",
   "version": "3.8.12"
  }
 },
 "nbformat": 4,
 "nbformat_minor": 5
}
