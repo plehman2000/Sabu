{
 "cells": [
  {
   "cell_type": "code",
   "execution_count": 1,
   "id": "8edda146",
   "metadata": {},
   "outputs": [],
   "source": [
    "from TwintUtils import *\n",
    "tweets = get_tweets('from:@nbcnews', 20)\n",
    "twit = tweets[0]"
   ]
  },
  {
   "cell_type": "code",
   "execution_count": 2,
   "id": "b502d9e7",
   "metadata": {
    "scrolled": true
   },
   "outputs": [
    {
     "name": "stdout",
     "output_type": "stream",
     "text": [
      "A California father and son are accused of reckless arson in the massive Caldor Fire that scorched more than 200,000 acres, destroyed structures and forced the evacuation of South Lake Tahoe, prosecutors say.\n"
     ]
    }
   ],
   "source": [
    "processed = process_tweet(twit)['tweet']\n",
    "print(processed)"
   ]
  },
  {
   "cell_type": "code",
   "execution_count": 4,
   "id": "05aa376d",
   "metadata": {},
   "outputs": [
    {
     "name": "stdout",
     "output_type": "stream",
     "text": [
      "\n",
      "\n",
      "\n",
      "A California \u001b[38;2;121;165;143mfather \u001b[38;2;255;255;255m and \u001b[38;2;110;143;132mson \u001b[38;2;255;255;255m are accused of reckless \u001b[38;2;154;165;110marson \u001b[38;2;255;255;255m in the massive Caldor Fire that scorched more than 200,000 \u001b[38;2;143;143;165macres \u001b[38;2;255;255;255m , destroyed \u001b[38;2;165;121;110mstructures \u001b[38;2;255;255;255m and forced the \u001b[38;2;154;121;154mevacuation \u001b[38;2;255;255;255m of South Lake Tahoe , \u001b[38;2;110;143;121mprosecutors \u001b[38;2;255;255;255m say . \n",
      "\n",
      "\u001b[38;2;255;0;0mfather \u001b[38;2;255;255;255m \u001b[38;2;121;165;143m - A father is the male parent of a child Besides the paternal bonds of a father to his children the father may have a parental legal and social relationship with the child that carries with it certain rights and obligations An adoptive father is a male who has become the childs parent through the legal process of adoption  \u001b[38;2;255;255;255m\n",
      "\u001b[38;2;255;0;0mson \u001b[38;2;255;255;255m \u001b[38;2;110;143;132m - A son is a male offspring a boy or man in relation to his parents The female counterpart is a daughter  From a biological perspective a son constitutes a first degree relative  \u001b[38;2;255;255;255m\n",
      "\u001b[38;2;255;0;0marson \u001b[38;2;255;255;255m \u001b[38;2;154;165;110m - Arson is a crime of willfully and maliciously setting fire to or charring property Though the act typically involves buildings the term arson can also refer to the intentional burning of other things such as motor vehicles watercraft or forests The crime is typically classified as a felony with instances involving a greater degree of risk to human life or property carrying a stricter penalty A common motive for arson is to commit insurance fraud In such cases a person destroys their own property by burning it and then lies about the cause in order to collect against their insurance policyA person who commits arson is referred to as an arsonist Arsonists normally use an accelerant such as gasoline or kerosene to ignite propel and directionalize fires and the detection and identification of ignitable liquid residues ILRs is an important part of fire investigations Pyromania is an impulse control disorder characterized by the pathological setting of fires Most acts of arson are not committed by pyromaniacs  \u001b[38;2;255;255;255m\n",
      "\u001b[38;2;255;0;0macres \u001b[38;2;255;255;255m \u001b[38;2;143;143;165m - The acre is a unit of land area used in the imperial and US customary systems It is traditionally defined as the area of one chain by one furlong 66 by 660 feet which is exactly equal to 10 square chains 1640 of a square mile 4840 square yards or 43560 square feet and approximately 4047 m2 or about 40 of a hectare Based upon the International yard and pound agreement of 1959 an acre may be declared as exactly 40468564224 square metres The acre was sometimes abbreviated ac but was often spelled out as the word acreTraditionally in the Middle Ages an acre was conceived of as the area of land that could be ploughed by one man using a team of oxen in one dayIt is still a statute measure in the United States Both the international acre and the US survey acre are in use but they differ by only two parts per million see below The most common use of the acre is to measure tracts of landThe acre is commonly used in a number of current and former British Commonwealth countries by custom only In a few it continues as a statute measure although since 2010 not in the UK itself and not since decades ago in Australia New Zealand and South Africa In many of those where it is not a statute measure it is still lawful to use for trade if given as supplementary information and is not used for land registration  \u001b[38;2;255;255;255m\n",
      "\u001b[38;2;255;0;0mstructures \u001b[38;2;255;255;255m \u001b[38;2;165;121;110m - A structure is an arrangement and organization of interrelated elements in a material object or system or the object or system so organized Material structures include manmade objects such as buildings and machines and natural objects such as biological organisms minerals and chemicals Abstract structures include data structures in computer science and musical form Types of structure include a hierarchy a cascade of onetomany relationships a network featuring manytomany links or a lattice featuring connections between components that are neighbors in space  \u001b[38;2;255;255;255m\n",
      "\u001b[38;2;255;0;0mevacuation \u001b[38;2;255;255;255m \u001b[38;2;154;121;154m - Evacuation or Evacuate may refer toCasualty evacuation CASEVAC patient evacuation in combat situationsCasualty movement the procedure for moving a casualty from its initial location to an ambulanceEmergency evacuation removal of persons from a dangerous place due to a disaster or impending warMedical evacuation MEDEVAC evacuating a patient by plane or helicopter or even train  \u001b[38;2;255;255;255m\n",
      "\u001b[38;2;255;0;0mprosecutors \u001b[38;2;255;255;255m \u001b[38;2;110;143;121m - A prosecutor is a legal representative of the prosecution in states with either the common law adversarial system or the civil law inquisitorial system  \u001b[38;2;255;255;255m\n"
     ]
    }
   ],
   "source": [
    "info = analyzeTweetNouns(twit, explainerLength=1)"
   ]
  },
  {
   "cell_type": "code",
   "execution_count": 15,
   "id": "2589dbf7",
   "metadata": {},
   "outputs": [
    {
     "data": {
      "text/plain": [
       "'A California father and son are accused of reckless arson in the massive Caldor Fire that scorched more than 200,000 acres, destroyed structures and forced the evacuation of South Lake Tahoe, prosecutors say.'"
      ]
     },
     "execution_count": 15,
     "metadata": {},
     "output_type": "execute_result"
    }
   ],
   "source": [
    "processed"
   ]
  },
  {
   "cell_type": "code",
   "execution_count": 16,
   "id": "c627ee95",
   "metadata": {
    "scrolled": true
   },
   "outputs": [
    {
     "ename": "NameError",
     "evalue": "name 'expandText' is not defined",
     "output_type": "error",
     "traceback": [
      "\u001b[1;31m---------------------------------------------------------------------------\u001b[0m",
      "\u001b[1;31mNameError\u001b[0m                                 Traceback (most recent call last)",
      "\u001b[1;32m~\\AppData\\Local\\Temp/ipykernel_38868/1631344523.py\u001b[0m in \u001b[0;36m<module>\u001b[1;34m\u001b[0m\n\u001b[1;32m----> 1\u001b[1;33m \u001b[0mexpandText\u001b[0m\u001b[1;33m(\u001b[0m\u001b[0mprocessed\u001b[0m\u001b[1;33m,\u001b[0m \u001b[0minfo\u001b[0m\u001b[1;33m[\u001b[0m\u001b[1;36m0\u001b[0m\u001b[1;33m]\u001b[0m\u001b[1;33m)\u001b[0m\u001b[1;33m\u001b[0m\u001b[1;33m\u001b[0m\u001b[0m\n\u001b[0m",
      "\u001b[1;31mNameError\u001b[0m: name 'expandText' is not defined"
     ]
    }
   ],
   "source": [
    "expandText(processed, info[0])"
   ]
  },
  {
   "cell_type": "code",
   "execution_count": 17,
   "id": "73424045",
   "metadata": {},
   "outputs": [],
   "source": [
    "def expandText(text, nounDict):\n",
    "    nlp = spacy.load('en_core_web_sm')\n",
    "    doc = nlp(text)\n",
    "    expanded_text = \"\"\n",
    "    for s in doc:\n",
    "        if s.text in nounDict:\n",
    "            expanded_text += \" \" + nounDict[s.text]\n",
    "        else:\n",
    "            expanded_text += \" \" +s.text\n",
    "    return expanded_text"
   ]
  },
  {
   "cell_type": "code",
   "execution_count": 18,
   "id": "8dee2c87",
   "metadata": {},
   "outputs": [
    {
     "ename": "TypeError",
     "evalue": "string indices must be integers",
     "output_type": "error",
     "traceback": [
      "\u001b[1;31m---------------------------------------------------------------------------\u001b[0m",
      "\u001b[1;31mTypeError\u001b[0m                                 Traceback (most recent call last)",
      "\u001b[1;32m~\\AppData\\Local\\Temp/ipykernel_38868/2553936236.py\u001b[0m in \u001b[0;36m<module>\u001b[1;34m\u001b[0m\n\u001b[1;32m----> 1\u001b[1;33m \u001b[0mwikiExplainer\u001b[0m\u001b[1;33m(\u001b[0m\u001b[0mprocessed\u001b[0m\u001b[1;33m[\u001b[0m\u001b[1;34m'tweet'\u001b[0m\u001b[1;33m]\u001b[0m\u001b[1;33m,\u001b[0m \u001b[0mexplainer_length\u001b[0m\u001b[1;33m=\u001b[0m\u001b[1;36m1\u001b[0m\u001b[1;33m)\u001b[0m\u001b[1;33m\u001b[0m\u001b[1;33m\u001b[0m\u001b[0m\n\u001b[0m",
      "\u001b[1;31mTypeError\u001b[0m: string indices must be integers"
     ]
    }
   ],
   "source": [
    "wikiExplainer(processed['tweet'], explainer_length=1)"
   ]
  },
  {
   "cell_type": "code",
   "execution_count": null,
   "id": "dd705383",
   "metadata": {},
   "outputs": [],
   "source": [
    "wikiExplainer('poop')"
   ]
  },
  {
   "cell_type": "code",
   "execution_count": null,
   "id": "537e0833",
   "metadata": {},
   "outputs": [],
   "source": [
    "def wikiExplainer(title, removeEscapeChars=True):\n",
    "        \n",
    "    response = requests.get(\n",
    "         'https://en.wikipedia.org/w/api.php',\n",
    "         params={\n",
    "             'action': 'query',\n",
    "             'format': 'json',\n",
    "             'titles': title,\n",
    "             'prop': 'extracts',\n",
    "             'exintro': True,\n",
    "             'explaintext': True,\n",
    "         }).json()\n",
    "    response = requests.get(\"https://en.wikipedia.org/w/api.php?format=json&action=query&prop=extracts&exlimit=max&explaintext&exintro&titles=\" + title.replace(\" \", \"_\") + \"|\" + title.replace(\" \", \"_\") + \"&redirects=\").json()\n",
    "    page = next(iter(response['query']['pages'].values()))\n",
    "    if 'extract' in page:\n",
    "        page = page['extract']\n",
    "        if removeEscapeChars:\n",
    "            page = ''.join(c for c in page if c.isalnum() or c==' ')\n",
    "    else:\n",
    "        page = \"\"\n",
    "    return page"
   ]
  },
  {
   "cell_type": "code",
   "execution_count": null,
   "id": "3584378f",
   "metadata": {},
   "outputs": [],
   "source": []
  }
 ],
 "metadata": {
  "kernelspec": {
   "display_name": "Python 3 (ipykernel)",
   "language": "python",
   "name": "python3"
  },
  "language_info": {
   "codemirror_mode": {
    "name": "ipython",
    "version": 3
   },
   "file_extension": ".py",
   "mimetype": "text/x-python",
   "name": "python",
   "nbconvert_exporter": "python",
   "pygments_lexer": "ipython3",
   "version": "3.8.12"
  }
 },
 "nbformat": 4,
 "nbformat_minor": 5
}
