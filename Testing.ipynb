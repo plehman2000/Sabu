{
 "cells": [
  {
   "cell_type": "code",
   "execution_count": 1,
   "id": "5d49f0fa",
   "metadata": {
    "scrolled": true
   },
   "outputs": [
    {
     "name": "stderr",
     "output_type": "stream",
     "text": [
      "Some weights of the model checkpoint at bert-base-cased were not used when initializing BertModel: ['cls.predictions.transform.dense.bias', 'cls.predictions.bias', 'cls.seq_relationship.weight', 'cls.predictions.decoder.weight', 'cls.predictions.transform.dense.weight', 'cls.seq_relationship.bias', 'cls.predictions.transform.LayerNorm.weight', 'cls.predictions.transform.LayerNorm.bias']\n",
      "- This IS expected if you are initializing BertModel from the checkpoint of a model trained on another task or with another architecture (e.g. initializing a BertForSequenceClassification model from a BertForPreTraining model).\n",
      "- This IS NOT expected if you are initializing BertModel from the checkpoint of a model that you expect to be exactly identical (initializing a BertForSequenceClassification model from a BertForSequenceClassification model).\n",
      "Some layers from the model checkpoint at bert-base-uncased were not used when initializing TFBertModel: ['mlm___cls', 'nsp___cls']\n",
      "- This IS expected if you are initializing TFBertModel from the checkpoint of a model trained on another task or with another architecture (e.g. initializing a BertForSequenceClassification model from a BertForPreTraining model).\n",
      "- This IS NOT expected if you are initializing TFBertModel from the checkpoint of a model that you expect to be exactly identical (initializing a BertForSequenceClassification model from a BertForSequenceClassification model).\n",
      "All the layers of TFBertModel were initialized from the model checkpoint at bert-base-uncased.\n",
      "If your task is similar to the task the model of the checkpoint was trained on, you can already use TFBertModel for predictions without further training.\n"
     ]
    },
    {
     "name": "stdout",
     "output_type": "stream",
     "text": [
      "CurrDir: Z:\\TwitterProject\n"
     ]
    }
   ],
   "source": [
    "from DataProcessing.TwintUtils import *\n",
    "from DataProcessing.wikiUtils import *\n",
    "from DataModelling.getSentiment.getSentiment import *\n",
    "from DataModelling.getTox.getToxicity import *\n",
    "from IPython.display import clear_output\n",
    "clear_output(wait=True)"
   ]
  },
  {
   "cell_type": "markdown",
   "id": "05455a9e",
   "metadata": {},
   "source": [
    "# get_tweets"
   ]
  },
  {
   "cell_type": "code",
   "execution_count": 2,
   "id": "ca44fbaa",
   "metadata": {},
   "outputs": [],
   "source": [
    "#df append not functioning #TODO"
   ]
  },
  {
   "cell_type": "code",
   "execution_count": 13,
   "id": "8edda146",
   "metadata": {},
   "outputs": [
    {
     "name": "stdout",
     "output_type": "stream",
     "text": [
      "[\".mileycyrus and PeteDavidson are getting ready for the hottest party of the year, and you're on the list. 🤩 Catch MileysNewYearsEveParty tomorrow at 10:30/9:30c on NBC and PeacockTV.\", 'Just some of the many highlights of 2021! What was your favorite 📺 moment of the year?', 'When someone asks why we keep watching the first two episodes of GrandCrew on PeacockTV on a loop... 📺', 'Single? ✅ Ready to mingle? ✅ GrandCrew', 'Just some Kenan quotes we think about often.']\n"
     ]
    }
   ],
   "source": [
    "search_query = 'from:@FoxNews'\n",
    "#need to add try-except to get_tweets\n",
    "\n",
    "tweets = get_tweets(search_query, 5)\n",
    "        \n",
    "\n",
    "processed_tweets = [process_tweet(tweet)['tweet'] for tweet in tweets]\n",
    "print(processed_tweets)\n"
   ]
  },
  {
   "cell_type": "markdown",
   "id": "f51de6a0",
   "metadata": {},
   "source": [
    "# Sentiment Analysis"
   ]
  },
  {
   "cell_type": "code",
   "execution_count": 5,
   "id": "cc3b411e",
   "metadata": {
    "scrolled": true
   },
   "outputs": [
    {
     "name": "stdout",
     "output_type": "stream",
     "text": [
      "Tweets found using from:@nbc were 15.21% Negative, 80.47% Neutral, 0.41% Positive\n"
     ]
    }
   ],
   "source": [
    "#negative, neutral, positive\n",
    "scores = getSentimentAverage(processed_tweets)\n",
    "clear_output(wait=True)\n",
    "print(f'Tweets found using {search_query} were {100*scores[0]:.2f}% Negative, {100*scores[1]:.2f}% Neutral, {100*scores[2]:.2f}% Positive')"
   ]
  },
  {
   "cell_type": "code",
   "execution_count": 11,
   "id": "d6f0c94c",
   "metadata": {},
   "outputs": [
    {
     "name": "stdout",
     "output_type": "stream",
     "text": [
      "Peeps are marshmallows sold in the United States and Canada that are shaped into chicks, bunnies, and other animals. There are also different shapes used for various holidays. Peeps are used primarily to fill Easter baskets, though recent advertising campaigns market the candy as \"Peeps - Always in Season\", as Peeps has since expanded to include Halloween, Christmas and Valentine's Day; since 2014 it has been available year-round with the introduction of Peeps Minis. \n"
     ]
    }
   ],
   "source": [
    "word_to_define = 'peeps'\n",
    "definition = wikiExplainer(word_to_define, False)\n",
    "print(definition)"
   ]
  },
  {
   "cell_type": "markdown",
   "id": "4992b5cb",
   "metadata": {},
   "source": [
    "# Toxicity Analysis"
   ]
  },
  {
   "cell_type": "code",
   "execution_count": null,
   "id": "0235f79a",
   "metadata": {},
   "outputs": [],
   "source": [
    "tox = getToxicity(np.array([processed_tweets[0]]))[0]\n",
    "clear_output(wait=True)\n",
    "print(f\"Text: {tox[0]} \\nRating: {tox[1]}\")"
   ]
  },
  {
   "cell_type": "code",
   "execution_count": null,
   "id": "11f7ec34",
   "metadata": {},
   "outputs": [],
   "source": [
    "import spacy\n",
    "from spacy.lang.ja.examples import sentences \n",
    "\n",
    "nlp = spacy.load(\"ja_core_news_sm\")\n",
    "doc = nlp(sentences[0])\n",
    "print(doc.text)\n",
    "for token in doc:\n",
    "    print(token)"
   ]
  },
  {
   "cell_type": "code",
   "execution_count": null,
   "id": "306acdc6",
   "metadata": {},
   "outputs": [],
   "source": [
    "import spacy\n",
    "from spacy import displacy\n",
    "\n",
    "\n",
    "displacy.serve(doc, style=\"dep\")"
   ]
  }
 ],
 "metadata": {
  "kernelspec": {
   "display_name": "Python 3 (ipykernel)",
   "language": "python",
   "name": "python3"
  },
  "language_info": {
   "codemirror_mode": {
    "name": "ipython",
    "version": 3
   },
   "file_extension": ".py",
   "mimetype": "text/x-python",
   "name": "python",
   "nbconvert_exporter": "python",
   "pygments_lexer": "ipython3",
   "version": "3.8.12"
  }
 },
 "nbformat": 4,
 "nbformat_minor": 5
}
