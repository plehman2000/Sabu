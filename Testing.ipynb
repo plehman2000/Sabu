{
 "cells": [
  {
   "cell_type": "code",
   "execution_count": null,
   "id": "4471b358",
   "metadata": {},
   "outputs": [],
   "source": []
  },
  {
   "cell_type": "code",
   "execution_count": 1,
   "id": "5d49f0fa",
   "metadata": {
    "scrolled": false
   },
   "outputs": [
    {
     "name": "stdout",
     "output_type": "stream",
     "text": [
      "EDITED\n"
     ]
    },
    {
     "name": "stderr",
     "output_type": "stream",
     "text": [
      "Some weights of the model checkpoint at bert-base-cased were not used when initializing BertModel: ['cls.predictions.decoder.weight', 'cls.predictions.bias', 'cls.predictions.transform.LayerNorm.weight', 'cls.seq_relationship.weight', 'cls.seq_relationship.bias', 'cls.predictions.transform.dense.weight', 'cls.predictions.transform.dense.bias', 'cls.predictions.transform.LayerNorm.bias']\n",
      "- This IS expected if you are initializing BertModel from the checkpoint of a model trained on another task or with another architecture (e.g. initializing a BertForSequenceClassification model from a BertForPreTraining model).\n",
      "- This IS NOT expected if you are initializing BertModel from the checkpoint of a model that you expect to be exactly identical (initializing a BertForSequenceClassification model from a BertForSequenceClassification model).\n",
      "E:\\Applications\\Anaconda\\envs\\Twitter\\lib\\site-packages\\torch\\onnx\\symbolic_helper.py:325: UserWarning: Type cannot be inferred, which might cause exported graph to produce incorrect results.\n",
      "  warnings.warn(\"Type cannot be inferred, which might cause exported graph to produce incorrect results.\")\n",
      "Some layers from the model checkpoint at bert-base-uncased were not used when initializing TFBertModel: ['mlm___cls', 'nsp___cls']\n",
      "- This IS expected if you are initializing TFBertModel from the checkpoint of a model trained on another task or with another architecture (e.g. initializing a BertForSequenceClassification model from a BertForPreTraining model).\n",
      "- This IS NOT expected if you are initializing TFBertModel from the checkpoint of a model that you expect to be exactly identical (initializing a BertForSequenceClassification model from a BertForSequenceClassification model).\n",
      "All the layers of TFBertModel were initialized from the model checkpoint at bert-base-uncased.\n",
      "If your task is similar to the task the model of the checkpoint was trained on, you can already use TFBertModel for predictions without further training.\n"
     ]
    },
    {
     "name": "stdout",
     "output_type": "stream",
     "text": [
      "CurrDir: c:\\Users\\Patrick\\Documents\\GH_REPOS\\Twitter\n"
     ]
    }
   ],
   "source": [
    "from IPython.display import clear_output\n",
    "from DataProcessing.TwintUtils import *\n",
    "\n",
    "from DataProcessing.wikiUtils import *\n",
    "from DataModelling.getSentiment.getSentiment import *\n",
    "from DataModelling.getTox.getToxicity import *\n",
    "from IPython.display import clear_output\n",
    "clear_output(wait=True)\n",
    "import twint"
   ]
  },
  {
   "cell_type": "markdown",
   "id": "05455a9e",
   "metadata": {},
   "source": [
    "# Getting the Tweets"
   ]
  },
  {
   "cell_type": "code",
   "execution_count": 19,
   "id": "8edda146",
   "metadata": {},
   "outputs": [
    {
     "name": "stdout",
     "output_type": "stream",
     "text": [
      "['Brianna Kupfer murder: Alleged killer Shawn Laval Smith had active warrant after assaulting cop', 'UK reportedly seriously considering ending all COVID restrictions as PM Johnson faces party revolt', \"Biden hesitates to say 2022 election results will be legitimate if 'voting rights' bills not passed\", 'ALTERNATE REALITY: Caitlyn_Jenner says transgender swimmer Lia Thomas’ success proves liberal policies ruin integrity of women’s sports.', \"Biden expresses optimism that 'pieces' of his Build Back Better plan can still pass\"]\n"
     ]
    }
   ],
   "source": [
    "from twint.token import RefreshTokenException\n",
    "search_query = 'from:@FoxNews'\n",
    "#need to add try-except to get_tweets\n",
    "\n",
    "tweets = None\n",
    "fail_count = 0\n",
    "tweets = get_tweets(search_query, 5)\n",
    "\n",
    "processed_tweets = [process_tweet(tweet)['tweet'] for tweet in tweets]\n",
    "print(processed_tweets)\n"
   ]
  },
  {
   "cell_type": "markdown",
   "id": "f51de6a0",
   "metadata": {},
   "source": [
    "# Sentiment Analysis"
   ]
  },
  {
   "cell_type": "code",
   "execution_count": 20,
   "id": "cc3b411e",
   "metadata": {
    "scrolled": true
   },
   "outputs": [
    {
     "name": "stdout",
     "output_type": "stream",
     "text": [
      "Tweets found using from:@FoxNews were 43.00% Negative, 34.85% Neutral, 22.15% Positive\n"
     ]
    }
   ],
   "source": [
    "#negative, neutral, positive\n",
    "\n",
    "scores = getSentimentAverage(processed_tweets)\n",
    "clear_output(wait=True)\n",
    "print(f'Tweets found using {search_query} were {100*scores[0]:.2f}% Negative, {100*scores[1]:.2f}% Neutral, {100*scores[2]:.2f}% Positive')"
   ]
  },
  {
   "cell_type": "code",
   "execution_count": 21,
   "id": "d6f0c94c",
   "metadata": {},
   "outputs": [
    {
     "name": "stdout",
     "output_type": "stream",
     "text": [
      "Artificial intelligence (AI) is intelligence demonstrated by machines, as opposed to natural intelligence displayed by animals including humans. \n",
      "Leading AI textbooks define the field as the study of \"intelligent agents\": any system that perceives its environment and takes actions that maximize its chance of achieving its goals. \n",
      "Some popular accounts use the term \"artificial intelligence\" to describe machines that mimic \"cognitive\" functions that humans associate with the human mind, such as \"learning\" and \"problem solving\", however, this definition is rejected by major AI researchers. \n"
     ]
    }
   ],
   "source": [
    "word_to_define = 'artificial intelligence'\n",
    "definition = wikiExplainer(word_to_define, False)\n",
    "print(definition)"
   ]
  },
  {
   "cell_type": "markdown",
   "id": "4992b5cb",
   "metadata": {},
   "source": [
    "# Toxicity Analysis"
   ]
  },
  {
   "cell_type": "code",
   "execution_count": null,
   "id": "0235f79a",
   "metadata": {},
   "outputs": [],
   "source": [
    "ind = 1\n",
    "tox = getToxicity(np.array([processed_tweets[ind]]))[0]\n",
    "clear_output(wait=True)\n",
    "print(f\"Text: {tox[0]} \\nRating: {tox[1]}\")"
   ]
  },
  {
   "cell_type": "code",
   "execution_count": null,
   "id": "3fb4bab1",
   "metadata": {},
   "outputs": [],
   "source": [
    "#!python -m spacy download en_core_web_lg"
   ]
  },
  {
   "cell_type": "code",
   "execution_count": 22,
   "id": "5ede15d8",
   "metadata": {},
   "outputs": [
    {
     "name": "stderr",
     "output_type": "stream",
     "text": [
      "Some weights of the model checkpoint at bert-base-uncased were not used when initializing BertForMaskedLM: ['cls.seq_relationship.bias', 'cls.seq_relationship.weight']\n",
      "- This IS expected if you are initializing BertForMaskedLM from the checkpoint of a model trained on another task or with another architecture (e.g. initializing a BertForSequenceClassification model from a BertForPreTraining model).\n",
      "- This IS NOT expected if you are initializing BertForMaskedLM from the checkpoint of a model that you expect to be exactly identical (initializing a BertForSequenceClassification model from a BertForSequenceClassification model).\n"
     ]
    },
    {
     "data": {
      "text/plain": [
       "[{'score': 0.09265684336423874,\n",
       "  'token': 7058,\n",
       "  'token_str': 'monthly',\n",
       "  'sequence': 'thrasher is a monthly magazine'},\n",
       " {'score': 0.0883837640285492,\n",
       "  'token': 2329,\n",
       "  'token_str': 'british',\n",
       "  'sequence': 'thrasher is a british magazine'},\n",
       " {'score': 0.05284596234560013,\n",
       "  'token': 2189,\n",
       "  'token_str': 'music',\n",
       "  'sequence': 'thrasher is a music magazine'},\n",
       " {'score': 0.044670797884464264,\n",
       "  'token': 12174,\n",
       "  'token_str': 'quarterly',\n",
       "  'sequence': 'thrasher is a quarterly magazine'},\n",
       " {'score': 0.029912061989307404,\n",
       "  'token': 4882,\n",
       "  'token_str': 'weekly',\n",
       "  'sequence': 'thrasher is a weekly magazine'}]"
      ]
     },
     "execution_count": 22,
     "metadata": {},
     "output_type": "execute_result"
    }
   ],
   "source": [
    "from transformers import pipeline\n",
    "unmasker = pipeline('fill-mask', model='bert-base-uncased')\n",
    "unmasker(\"Thrasher is a [MASK] magazine\")"
   ]
  },
  {
   "cell_type": "code",
   "execution_count": null,
   "id": "11f7ec34",
   "metadata": {},
   "outputs": [],
   "source": [
    "import spacy\n",
    "\n",
    "nlp = spacy.load(\"en_core_web_lg\")\n",
    "doc = nlp(processed_tweets[0])\n",
    "print(doc.text)\n",
    "for token in doc:\n",
    "    print(token)"
   ]
  },
  {
   "cell_type": "code",
   "execution_count": null,
   "id": "eeb52b36",
   "metadata": {},
   "outputs": [],
   "source": []
  },
  {
   "cell_type": "code",
   "execution_count": null,
   "id": "306acdc6",
   "metadata": {},
   "outputs": [],
   "source": [
    "import spacy\n",
    "from spacy import displacy\n",
    "\n",
    "\n",
    "displacy.serve(doc, style=\"dep\")"
   ]
  },
  {
   "cell_type": "code",
   "execution_count": null,
   "id": "dc888fc0",
   "metadata": {},
   "outputs": [],
   "source": [
    "displacy.serve(doc, style=\"ent\")"
   ]
  },
  {
   "cell_type": "code",
   "execution_count": null,
   "id": "be4752b6",
   "metadata": {},
   "outputs": [],
   "source": []
  }
 ],
 "metadata": {
  "kernelspec": {
   "display_name": "Python 3 (ipykernel)",
   "language": "python",
   "name": "python3"
  },
  "language_info": {
   "codemirror_mode": {
    "name": "ipython",
    "version": 3
   },
   "file_extension": ".py",
   "mimetype": "text/x-python",
   "name": "python",
   "nbconvert_exporter": "python",
   "pygments_lexer": "ipython3",
   "version": "3.7.11"
  }
 },
 "nbformat": 4,
 "nbformat_minor": 5
}
