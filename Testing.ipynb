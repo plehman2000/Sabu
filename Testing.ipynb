{
 "cells": [
  {
   "cell_type": "code",
   "execution_count": 1,
   "id": "5d49f0fa",
   "metadata": {},
   "outputs": [
    {
     "name": "stderr",
     "output_type": "stream",
     "text": [
      "Some weights of the model checkpoint at bert-base-cased were not used when initializing BertModel: ['cls.seq_relationship.bias', 'cls.predictions.transform.dense.bias', 'cls.seq_relationship.weight', 'cls.predictions.bias', 'cls.predictions.transform.dense.weight', 'cls.predictions.decoder.weight', 'cls.predictions.transform.LayerNorm.weight', 'cls.predictions.transform.LayerNorm.bias']\n",
      "- This IS expected if you are initializing BertModel from the checkpoint of a model trained on another task or with another architecture (e.g. initializing a BertForSequenceClassification model from a BertForPreTraining model).\n",
      "- This IS NOT expected if you are initializing BertModel from the checkpoint of a model that you expect to be exactly identical (initializing a BertForSequenceClassification model from a BertForSequenceClassification model).\n",
      "Some layers from the model checkpoint at bert-base-uncased were not used when initializing TFBertModel: ['mlm___cls', 'nsp___cls']\n",
      "- This IS expected if you are initializing TFBertModel from the checkpoint of a model trained on another task or with another architecture (e.g. initializing a BertForSequenceClassification model from a BertForPreTraining model).\n",
      "- This IS NOT expected if you are initializing TFBertModel from the checkpoint of a model that you expect to be exactly identical (initializing a BertForSequenceClassification model from a BertForSequenceClassification model).\n",
      "All the layers of TFBertModel were initialized from the model checkpoint at bert-base-uncased.\n",
      "If your task is similar to the task the model of the checkpoint was trained on, you can already use TFBertModel for predictions without further training.\n"
     ]
    },
    {
     "name": "stdout",
     "output_type": "stream",
     "text": [
      "CurrDir: Z:\\TwitterProject\n"
     ]
    }
   ],
   "source": [
    "from DataProcessing.TwintUtils import *\n",
    "from DataProcessing.wikiUtils import *\n",
    "from DataModelling.getSentiment.getSentiment import *\n",
    "from DataModelling.getTox.getToxicity import *\n",
    "from IPython.display import clear_output\n",
    "clear_output(wait=True)"
   ]
  },
  {
   "cell_type": "markdown",
   "id": "05455a9e",
   "metadata": {},
   "source": [
    "# get_tweets"
   ]
  },
  {
   "cell_type": "code",
   "execution_count": null,
   "id": "8edda146",
   "metadata": {},
   "outputs": [],
   "source": [
    "search_query = 'from:@nbcnews'\n",
    "tweets = get_tweets(search_query, 5)\n",
    "processed_tweets = [process_tweet(tweet)['tweet'] for tweet in tweets]\n",
    "#print(processed_tweets)\n"
   ]
  },
  {
   "cell_type": "markdown",
   "id": "f51de6a0",
   "metadata": {},
   "source": [
    "# Sentiment Analysis"
   ]
  },
  {
   "cell_type": "code",
   "execution_count": null,
   "id": "cc3b411e",
   "metadata": {
    "scrolled": true
   },
   "outputs": [],
   "source": [
    "#negative, neutral, positive\n",
    "scores = getSentimentAverage(processed_tweets)\n",
    "clear_output(wait=True)\n",
    "print(f'Tweets found using {search_query} were {100*scores[0]:.2f}% Negative, {100*scores[1]:.2f}% Neutral, {100*scores[2]:.2f}% Positive')"
   ]
  },
  {
   "cell_type": "code",
   "execution_count": null,
   "id": "d6f0c94c",
   "metadata": {},
   "outputs": [],
   "source": [
    "word_to_define = 'apple'\n",
    "definition = wikiExplainer(word_to_define, False)\n",
    "print(definition)"
   ]
  },
  {
   "cell_type": "markdown",
   "id": "4992b5cb",
   "metadata": {},
   "source": [
    "# Toxicity Analysis"
   ]
  },
  {
   "cell_type": "code",
   "execution_count": null,
   "id": "0235f79a",
   "metadata": {},
   "outputs": [],
   "source": [
    "getToxicity(processed_tweets[0])"
   ]
  },
  {
   "cell_type": "code",
   "execution_count": null,
   "id": "c273931f",
   "metadata": {},
   "outputs": [],
   "source": []
  }
 ],
 "metadata": {
  "kernelspec": {
   "display_name": "Python 3 (ipykernel)",
   "language": "python",
   "name": "python3"
  },
  "language_info": {
   "codemirror_mode": {
    "name": "ipython",
    "version": 3
   },
   "file_extension": ".py",
   "mimetype": "text/x-python",
   "name": "python",
   "nbconvert_exporter": "python",
   "pygments_lexer": "ipython3",
   "version": "3.8.12"
  }
 },
 "nbformat": 4,
 "nbformat_minor": 5
}
