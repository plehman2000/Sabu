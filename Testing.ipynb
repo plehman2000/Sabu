{
 "cells": [
  {
   "cell_type": "code",
   "execution_count": null,
   "id": "4471b358",
   "metadata": {},
   "outputs": [],
   "source": []
  },
  {
   "cell_type": "code",
   "execution_count": null,
   "id": "5d49f0fa",
   "metadata": {
    "scrolled": false
   },
   "outputs": [],
   "source": [
    "from IPython.display import clear_output\n",
    "from DataProcessing.TwintUtils import *\n",
    "\n",
    "from DataProcessing.wikiUtils import *\n",
    "from DataModelling.getSentiment.getSentiment import *\n",
    "from DataModelling.getTox.getToxicity import *\n",
    "from IPython.display import clear_output\n",
    "import twint"
   ]
  },
  {
   "cell_type": "markdown",
   "id": "05455a9e",
   "metadata": {},
   "source": [
    "# Getting the Tweets"
   ]
  },
  {
   "cell_type": "code",
   "execution_count": null,
   "id": "8edda146",
   "metadata": {},
   "outputs": [],
   "source": [
    "search_query = {'username': 'FoxNews', 'limit': 5}\n",
    "tweets = get_tweets(**search_query)\n",
    "\n",
    "processed_tweets = [process_tweet(tweet)['tweet'] for tweet in tweets]\n",
    "print(processed_tweets)"
   ]
  },
  {
   "cell_type": "markdown",
   "id": "f51de6a0",
   "metadata": {},
   "source": [
    "# Sentiment Analysis"
   ]
  },
  {
   "cell_type": "code",
   "execution_count": null,
   "id": "cc3b411e",
   "metadata": {
    "scrolled": true
   },
   "outputs": [],
   "source": [
    "#negative, neutral, positive\n",
    "\n",
    "scores = getSentimentAverage(processed_tweets)\n",
    "print(f'Tweets found using {search_query} were {100*scores[0]:.2f}% Negative, {100*scores[1]:.2f}% Neutral, {100*scores[2]:.2f}% Positive')"
   ]
  },
  {
   "cell_type": "code",
   "execution_count": null,
   "id": "d6f0c94c",
   "metadata": {},
   "outputs": [],
   "source": [
    "word_to_define = 'artificial intelligence'\n",
    "definition = wikiExplainer(word_to_define, False)\n",
    "print(definition)"
   ]
  },
  {
   "cell_type": "markdown",
   "id": "4992b5cb",
   "metadata": {},
   "source": [
    "# Toxicity Analysis"
   ]
  },
  {
   "cell_type": "code",
   "execution_count": null,
   "id": "0235f79a",
   "metadata": {},
   "outputs": [],
   "source": [
    "ind = 1\n",
    "tox = getToxicity(np.array([processed_tweets[ind]]))[0]\n",
    "clear_output(wait=True)\n",
    "print(f\"Text: {tox[0]} \\nRating: {tox[1]}\")"
   ]
  },
  {
   "cell_type": "code",
   "execution_count": null,
   "id": "3fb4bab1",
   "metadata": {},
   "outputs": [],
   "source": [
    "#!python -m spacy download en_core_web_lg"
   ]
  },
  {
   "cell_type": "code",
   "execution_count": null,
   "id": "5ede15d8",
   "metadata": {},
   "outputs": [],
   "source": [
    "from transformers import pipeline\n",
    "unmasker = pipeline('fill-mask', model='bert-base-uncased')\n",
    "unmasker(\"Thrasher is a [MASK] magazine\")"
   ]
  },
  {
   "cell_type": "code",
   "execution_count": null,
   "id": "11f7ec34",
   "metadata": {},
   "outputs": [],
   "source": [
    "import spacy\n",
    "\n",
    "nlp = spacy.load(\"en_core_web_lg\")\n",
    "doc = nlp(processed_tweets[0])\n",
    "print(doc.text)\n",
    "for token in doc:\n",
    "    print(token)"
   ]
  },
  {
   "cell_type": "code",
   "execution_count": null,
   "id": "eeb52b36",
   "metadata": {},
   "outputs": [],
   "source": []
  },
  {
   "cell_type": "code",
   "execution_count": null,
   "id": "306acdc6",
   "metadata": {},
   "outputs": [],
   "source": [
    "import spacy\n",
    "from spacy import displacy\n",
    "\n",
    "\n",
    "displacy.render(doc, style=\"dep\")"
   ]
  },
  {
   "cell_type": "code",
   "execution_count": null,
   "id": "dc888fc0",
   "metadata": {},
   "outputs": [],
   "source": [
    "displacy.render(doc, style=\"ent\")"
   ]
  },
  {
   "cell_type": "code",
   "execution_count": null,
   "id": "be4752b6",
   "metadata": {},
   "outputs": [],
   "source": []
  }
 ],
 "metadata": {
  "kernelspec": {
   "display_name": "Python 3 (ipykernel)",
   "language": "python",
   "name": "python3"
  },
  "language_info": {
   "codemirror_mode": {
    "name": "ipython",
    "version": 3
   },
   "file_extension": ".py",
   "mimetype": "text/x-python",
   "name": "python",
   "nbconvert_exporter": "python",
   "pygments_lexer": "ipython3",
   "version": "3.8.12"
  }
 },
 "nbformat": 4,
 "nbformat_minor": 5
}
