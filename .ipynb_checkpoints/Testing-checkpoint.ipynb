{
 "cells": [
  {
   "cell_type": "code",
   "execution_count": 2,
   "id": "5d49f0fa",
   "metadata": {},
   "outputs": [
    {
     "ename": "ModuleNotFoundError",
     "evalue": "No module named 'DataProcessingTwintUtils'",
     "output_type": "error",
     "traceback": [
      "\u001b[1;31m---------------------------------------------------------------------------\u001b[0m",
      "\u001b[1;31mModuleNotFoundError\u001b[0m                       Traceback (most recent call last)",
      "\u001b[1;32m~\\AppData\\Local\\Temp/ipykernel_14680/930159583.py\u001b[0m in \u001b[0;36m<module>\u001b[1;34m\u001b[0m\n\u001b[1;32m----> 1\u001b[1;33m \u001b[1;32mfrom\u001b[0m \u001b[0mDataProcessingTwintUtils\u001b[0m \u001b[1;32mimport\u001b[0m \u001b[1;33m*\u001b[0m\u001b[1;33m\u001b[0m\u001b[1;33m\u001b[0m\u001b[0m\n\u001b[0m\u001b[0;32m      2\u001b[0m \u001b[1;32mfrom\u001b[0m \u001b[0mDataModelling\u001b[0m\u001b[1;33m.\u001b[0m\u001b[0mgetSentiment\u001b[0m \u001b[1;32mimport\u001b[0m \u001b[1;33m*\u001b[0m\u001b[1;33m\u001b[0m\u001b[1;33m\u001b[0m\u001b[0m\n",
      "\u001b[1;31mModuleNotFoundError\u001b[0m: No module named 'DataProcessingTwintUtils'"
     ]
    }
   ],
   "source": [
    "from DataProcessingTwintUtils import *\n",
    "from DataModelling.getSentiment import *"
   ]
  },
  {
   "cell_type": "code",
   "execution_count": 2,
   "id": "8edda146",
   "metadata": {},
   "outputs": [],
   "source": [
    "tweets = get_tweets('from:@nbcnews', 5)\n",
    "processed_tweets = [process_tweet(tweet)['tweet'] for tweet in tweets]\n",
    "#print(processed_tweets)\n"
   ]
  },
  {
   "cell_type": "code",
   "execution_count": null,
   "id": "826d4e77",
   "metadata": {},
   "outputs": [],
   "source": []
  },
  {
   "cell_type": "code",
   "execution_count": 3,
   "id": "cc3b411e",
   "metadata": {
    "scrolled": true
   },
   "outputs": [
    {
     "name": "stderr",
     "output_type": "stream",
     "text": [
      "Truncation was not explicitly activated but `max_length` is provided a specific value, please use `truncation=True` to explicitly truncate examples to max length. Defaulting to 'longest_first' truncation strategy. If you encode pairs of sequences (GLUE-style) with the tokenizer you can select this strategy more precisely by providing a specific strategy to `truncation`.\n",
      "D:\\Anaconda\\envs\\Twitter\\lib\\site-packages\\transformers\\tokenization_utils_base.py:2221: FutureWarning: The `pad_to_max_length` argument is deprecated and will be removed in a future version, use `padding=True` or `padding='longest'` to pad to the longest sequence in the batch, or use `padding='max_length'` to pad to a max length. In this case, you can give a specific length with `max_length` (e.g. `max_length=45`) or leave max_length to None to pad to the maximal input size of the model (e.g. 512 for Bert).\n",
      "  warnings.warn(\n"
     ]
    },
    {
     "data": {
      "text/plain": [
       "[0.03455718, 0.6973596, 0.20679061]"
      ]
     },
     "execution_count": 3,
     "metadata": {},
     "output_type": "execute_result"
    }
   ],
   "source": [
    "#negative, neutral, positive\n",
    "getSentimentAverage(processed_tweets)"
   ]
  },
  {
   "cell_type": "code",
   "execution_count": null,
   "id": "d6f0c94c",
   "metadata": {},
   "outputs": [],
   "source": [
    "\n"
   ]
  },
  {
   "cell_type": "markdown",
   "id": "bd8aa6c7",
   "metadata": {},
   "source": [
    "# Sentiment Analysis}"
   ]
  },
  {
   "cell_type": "code",
   "execution_count": null,
   "id": "bea62a33",
   "metadata": {},
   "outputs": [],
   "source": []
  },
  {
   "cell_type": "markdown",
   "id": "330c69fc",
   "metadata": {},
   "source": [
    "# Noun Analysis"
   ]
  },
  {
   "cell_type": "code",
   "execution_count": null,
   "id": "05aa376d",
   "metadata": {},
   "outputs": [],
   "source": [
    "info = analyzeTweetNouns(twit, explainerLength=1)"
   ]
  },
  {
   "cell_type": "code",
   "execution_count": null,
   "id": "2589dbf7",
   "metadata": {},
   "outputs": [],
   "source": [
    "processed"
   ]
  },
  {
   "cell_type": "code",
   "execution_count": null,
   "id": "c627ee95",
   "metadata": {
    "scrolled": true
   },
   "outputs": [],
   "source": [
    "expandText(processed, info[0])"
   ]
  },
  {
   "cell_type": "code",
   "execution_count": null,
   "id": "73424045",
   "metadata": {},
   "outputs": [],
   "source": [
    "def expandText(text, nounDict):\n",
    "    nlp = spacy.load('en_core_web_sm')\n",
    "    doc = nlp(text)\n",
    "    expanded_text = \"\"\n",
    "    for s in doc:\n",
    "        if s.text in nounDict:\n",
    "            expanded_text += \" \" + nounDict[s.text]\n",
    "        else:\n",
    "            expanded_text += \" \" +s.text\n",
    "    return expanded_text"
   ]
  },
  {
   "cell_type": "code",
   "execution_count": null,
   "id": "8dee2c87",
   "metadata": {},
   "outputs": [],
   "source": [
    "wikiExplainer(processed['tweet'], explainer_length=1)"
   ]
  },
  {
   "cell_type": "code",
   "execution_count": null,
   "id": "dd705383",
   "metadata": {},
   "outputs": [],
   "source": [
    "wikiExplainer('poop')"
   ]
  },
  {
   "cell_type": "code",
   "execution_count": null,
   "id": "537e0833",
   "metadata": {},
   "outputs": [],
   "source": [
    "def wikiExplainer(title, removeEscapeChars=True):\n",
    "        \n",
    "    response = requests.get(\n",
    "         'https://en.wikipedia.org/w/api.php',\n",
    "         params={\n",
    "             'action': 'query',\n",
    "             'format': 'json',\n",
    "             'titles': title,\n",
    "             'prop': 'extracts',\n",
    "             'exintro': True,\n",
    "             'explaintext': True,\n",
    "         }).json()\n",
    "    response = requests.get(\"https://en.wikipedia.org/w/api.php?format=json&action=query&prop=extracts&exlimit=max&explaintext&exintro&titles=\" + title.replace(\" \", \"_\") + \"|\" + title.replace(\" \", \"_\") + \"&redirects=\").json()\n",
    "    page = next(iter(response['query']['pages'].values()))\n",
    "    if 'extract' in page:\n",
    "        page = page['extract']\n",
    "        if removeEscapeChars:\n",
    "            page = ''.join(c for c in page if c.isalnum() or c==' ')\n",
    "    else:\n",
    "        page = \"\"\n",
    "    return page"
   ]
  },
  {
   "cell_type": "code",
   "execution_count": null,
   "id": "3584378f",
   "metadata": {},
   "outputs": [],
   "source": []
  }
 ],
 "metadata": {
  "kernelspec": {
   "display_name": "Python 3 (ipykernel)",
   "language": "python",
   "name": "python3"
  },
  "language_info": {
   "codemirror_mode": {
    "name": "ipython",
    "version": 3
   },
   "file_extension": ".py",
   "mimetype": "text/x-python",
   "name": "python",
   "nbconvert_exporter": "python",
   "pygments_lexer": "ipython3",
   "version": "3.8.12"
  }
 },
 "nbformat": 4,
 "nbformat_minor": 5
}
