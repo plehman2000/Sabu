{
  "nbformat": 4,
  "nbformat_minor": 0,
  "metadata": {
    "colab": {
      "name": "Sentiment Analysis.ipynb",
      "provenance": [],
      "collapsed_sections": []
    },
    "kernelspec": {
      "name": "python3",
      "display_name": "Python 3"
    },
    "language_info": {
      "name": "python"
    }
  },
  "cells": [
    {
      "cell_type": "markdown",
      "metadata": {
        "id": "09fL_35UuRBB"
      },
      "source": [
        "# Sentiment Analysis"
      ]
    },
    {
      "cell_type": "markdown",
      "metadata": {
        "id": "cSE8FrH9vdDh"
      },
      "source": [
        "Commonly used libraries."
      ]
    },
    {
      "cell_type": "code",
      "metadata": {
        "id": "M1SYM-HdvdI3"
      },
      "source": [
        "from pprint import pprint\n",
        "from termcolor import colored, cprint"
      ],
      "execution_count": 4,
      "outputs": []
    },
    {
      "cell_type": "markdown",
      "metadata": {
        "id": "RzZFplfAvZMj"
      },
      "source": [
        "Global variables."
      ]
    },
    {
      "cell_type": "code",
      "metadata": {
        "id": "jXO5yC9kvZWG"
      },
      "source": [
        "line_color = 'green'\n",
        "text_color = 'magenta'"
      ],
      "execution_count": 5,
      "outputs": []
    },
    {
      "cell_type": "markdown",
      "metadata": {
        "id": "ubJJv7Nquafu"
      },
      "source": [
        "## Textblob"
      ]
    },
    {
      "cell_type": "code",
      "metadata": {
        "id": "mRWmHZVDubLw"
      },
      "source": [
        "import textblob as tb\n",
        "from textblob import TextBlob\n",
        "from typing import Callable"
      ],
      "execution_count": 6,
      "outputs": []
    },
    {
      "cell_type": "code",
      "metadata": {
        "colab": {
          "base_uri": "https://localhost:8080/"
        },
        "id": "52rNl4xPubVV",
        "outputId": "e6f4846f-3183-47c5-b58b-bc4749ab9511"
      },
      "source": [
        "text = 'Artificial intelligence will change the world, in a good way of course.'\n",
        "tb_obj = TextBlob(text=text)\n",
        "\n",
        "cprint(text='-' * 100, color=line_color)\n",
        "cprint(text='Sentiment assessments:', color=text_color)\n",
        "cprint(text='-' * 100, color=line_color)\n",
        "for attr in dir(tb_obj.sentiment_assessments):\n",
        "  if attr.isalpha():\n",
        "    eval_str = f'tb_obj.sentiment_assessments.{attr}'\n",
        "    pprint(f'{attr}: {eval(eval_str)}')"
      ],
      "execution_count": 7,
      "outputs": [
        {
          "output_type": "stream",
          "name": "stdout",
          "text": [
            "\u001b[32m----------------------------------------------------------------------------------------------------\u001b[0m\n",
            "\u001b[35mSentiment assessments:\u001b[0m\n",
            "\u001b[32m----------------------------------------------------------------------------------------------------\u001b[0m\n",
            "(\"assessments: [(['artificial'], -0.6, 1.0, None), (['good'], 0.7, \"\n",
            " '0.6000000000000001, None)]')\n",
            "'count: <built-in method count of Sentiment object at 0x7f6e5cefcfb0>'\n",
            "'index: <built-in method index of Sentiment object at 0x7f6e5cefcfb0>'\n",
            "'polarity: 0.04999999999999999'\n",
            "'subjectivity: 0.8'\n"
          ]
        }
      ]
    },
    {
      "cell_type": "markdown",
      "metadata": {
        "id": "qR8n_mK_ubZD"
      },
      "source": [
        "Sentiments of Synonyms"
      ]
    },
    {
      "cell_type": "code",
      "metadata": {
        "colab": {
          "base_uri": "https://localhost:8080/"
        },
        "id": "E5fdzC0N9nGF",
        "outputId": "dbbcba5f-c23a-4e3b-b4f1-7fbaf99d4f2b"
      },
      "source": [
        "import nltk\n",
        "nltk.download('wordnet')"
      ],
      "execution_count": 8,
      "outputs": [
        {
          "output_type": "stream",
          "name": "stdout",
          "text": [
            "[nltk_data] Downloading package wordnet to /root/nltk_data...\n",
            "[nltk_data]   Unzipping corpora/wordnet.zip.\n"
          ]
        },
        {
          "output_type": "execute_result",
          "data": {
            "text/plain": [
              "True"
            ]
          },
          "metadata": {},
          "execution_count": 8
        }
      ]
    },
    {
      "cell_type": "code",
      "metadata": {
        "colab": {
          "base_uri": "https://localhost:8080/"
        },
        "id": "r246LSa_ubcN",
        "outputId": "92e6cbde-5977-48c4-a108-6f9cb10c2c0d"
      },
      "source": [
        "from textblob import Word\n",
        "from textblob.wordnet import Synset\n",
        "\n",
        "word = 'intelligence'\n",
        "word_obj = Word(string=word)\n",
        "\n",
        "# Definitions of intelligence\n",
        "cprint(text='-' * 100, color=line_color)\n",
        "cprint(text='Definitions: ', color=text_color)\n",
        "cprint(text='-' * 100, color=line_color)\n",
        "pprint(word_obj.define())\n",
        "\n",
        "# Synonyms\n",
        "cprint(text='-' * 100, color=line_color)\n",
        "cprint(text='Sentiment assessments:', color=text_color)\n",
        "cprint(text='-' * 100, color=line_color)\n",
        "pprint(word_obj.get_synsets())"
      ],
      "execution_count": 9,
      "outputs": [
        {
          "output_type": "stream",
          "name": "stdout",
          "text": [
            "\u001b[32m----------------------------------------------------------------------------------------------------\u001b[0m\n",
            "\u001b[35mDefinitions: \u001b[0m\n",
            "\u001b[32m----------------------------------------------------------------------------------------------------\u001b[0m\n",
            "['the ability to comprehend; to understand and profit from experience',\n",
            " 'a unit responsible for gathering and interpreting information about an enemy',\n",
            " 'secret information about an enemy (or potential enemy)',\n",
            " 'information about recent and important events',\n",
            " 'the operation of gathering information about an enemy']\n",
            "\u001b[32m----------------------------------------------------------------------------------------------------\u001b[0m\n",
            "\u001b[35mSentiment assessments:\u001b[0m\n",
            "\u001b[32m----------------------------------------------------------------------------------------------------\u001b[0m\n",
            "[Synset('intelligence.n.01'),\n",
            " Synset('intelligence.n.02'),\n",
            " Synset('intelligence.n.03'),\n",
            " Synset('news.n.01'),\n",
            " Synset('intelligence.n.05')]\n"
          ]
        }
      ]
    },
    {
      "cell_type": "markdown",
      "metadata": {
        "id": "iuKYWypXubfJ"
      },
      "source": [
        "## Domains of Sentiment Analysis"
      ]
    },
    {
      "cell_type": "markdown",
      "metadata": {
        "id": "7vFYbmUgubhs"
      },
      "source": [
        "1. Knowledge-Based: Classification of text based on emotional words in text. \n",
        "  - Lexicon-based is more specific subtype that assigns polarity and sentiment scores to each word in a text to compute a grand total score per category.\n",
        "\n",
        "2. Statistical: Uses statistical and machine learning techniques to classify sentiment. \n",
        "  - This overlaps sentiment analysis with emotion detection.\n",
        "\n",
        "3. Hybrid: Applies aspects of both knowledge-based and statistical techniques."
      ]
    },
    {
      "cell_type": "markdown",
      "metadata": {
        "id": "wjxA0-nXubkY"
      },
      "source": [
        "## Types of Sentiment Analysis by Application"
      ]
    },
    {
      "cell_type": "markdown",
      "metadata": {
        "id": "YULjRuDYubnr"
      },
      "source": [
        "1. aspect-based\n",
        "2. intent analysis"
      ]
    },
    {
      "cell_type": "markdown",
      "metadata": {
        "id": "hlZeeENducko"
      },
      "source": [
        "### Aspect-Based Sentiment Analysis"
      ]
    },
    {
      "cell_type": "code",
      "metadata": {
        "id": "Mzyz5YNuucn_",
        "colab": {
          "base_uri": "https://localhost:8080/"
        },
        "outputId": "8fe93160-9c03-4609-a17b-cbd31163a993"
      },
      "source": [
        "!pip install aspect_based_sentiment_analysis"
      ],
      "execution_count": 1,
      "outputs": [
        {
          "output_type": "stream",
          "name": "stdout",
          "text": [
            "Collecting aspect_based_sentiment_analysis\n",
            "  Downloading aspect_based_sentiment_analysis-2.0.3-py3-none-any.whl (35 kB)\n",
            "Requirement already satisfied: spacy in /usr/local/lib/python3.7/dist-packages (from aspect_based_sentiment_analysis) (2.2.4)\n",
            "Requirement already satisfied: pytest in /usr/local/lib/python3.7/dist-packages (from aspect_based_sentiment_analysis) (3.6.4)\n",
            "Requirement already satisfied: scikit-learn in /usr/local/lib/python3.7/dist-packages (from aspect_based_sentiment_analysis) (0.22.2.post1)\n",
            "Collecting tensorflow==2.5\n",
            "  Downloading tensorflow-2.5.0-cp37-cp37m-manylinux2010_x86_64.whl (454.3 MB)\n",
            "\u001b[K     |████████████████████████████████| 454.3 MB 16 kB/s \n",
            "\u001b[?25hCollecting testfixtures\n",
            "  Downloading testfixtures-6.18.2-py2.py3-none-any.whl (95 kB)\n",
            "\u001b[K     |████████████████████████████████| 95 kB 5.1 MB/s \n",
            "\u001b[?25hRequirement already satisfied: ipython in /usr/local/lib/python3.7/dist-packages (from aspect_based_sentiment_analysis) (5.5.0)\n",
            "Collecting optuna\n",
            "  Downloading optuna-2.9.1-py3-none-any.whl (302 kB)\n",
            "\u001b[K     |████████████████████████████████| 302 kB 67.7 MB/s \n",
            "\u001b[?25hCollecting transformers==4.8\n",
            "  Downloading transformers-4.8.0-py3-none-any.whl (2.5 MB)\n",
            "\u001b[K     |████████████████████████████████| 2.5 MB 56.7 MB/s \n",
            "\u001b[?25hRequirement already satisfied: google-cloud-storage in /usr/local/lib/python3.7/dist-packages (from aspect_based_sentiment_analysis) (1.18.1)\n",
            "Requirement already satisfied: six~=1.15.0 in /usr/local/lib/python3.7/dist-packages (from tensorflow==2.5->aspect_based_sentiment_analysis) (1.15.0)\n",
            "Requirement already satisfied: h5py~=3.1.0 in /usr/local/lib/python3.7/dist-packages (from tensorflow==2.5->aspect_based_sentiment_analysis) (3.1.0)\n",
            "Requirement already satisfied: keras-preprocessing~=1.1.2 in /usr/local/lib/python3.7/dist-packages (from tensorflow==2.5->aspect_based_sentiment_analysis) (1.1.2)\n",
            "Collecting grpcio~=1.34.0\n",
            "  Downloading grpcio-1.34.1-cp37-cp37m-manylinux2014_x86_64.whl (4.0 MB)\n",
            "\u001b[K     |████████████████████████████████| 4.0 MB 54.6 MB/s \n",
            "\u001b[?25hRequirement already satisfied: absl-py~=0.10 in /usr/local/lib/python3.7/dist-packages (from tensorflow==2.5->aspect_based_sentiment_analysis) (0.12.0)\n",
            "Requirement already satisfied: google-pasta~=0.2 in /usr/local/lib/python3.7/dist-packages (from tensorflow==2.5->aspect_based_sentiment_analysis) (0.2.0)\n",
            "Requirement already satisfied: wheel~=0.35 in /usr/local/lib/python3.7/dist-packages (from tensorflow==2.5->aspect_based_sentiment_analysis) (0.37.0)\n",
            "Requirement already satisfied: opt-einsum~=3.3.0 in /usr/local/lib/python3.7/dist-packages (from tensorflow==2.5->aspect_based_sentiment_analysis) (3.3.0)\n",
            "Requirement already satisfied: wrapt~=1.12.1 in /usr/local/lib/python3.7/dist-packages (from tensorflow==2.5->aspect_based_sentiment_analysis) (1.12.1)\n",
            "Requirement already satisfied: typing-extensions~=3.7.4 in /usr/local/lib/python3.7/dist-packages (from tensorflow==2.5->aspect_based_sentiment_analysis) (3.7.4.3)\n",
            "Requirement already satisfied: tensorboard~=2.5 in /usr/local/lib/python3.7/dist-packages (from tensorflow==2.5->aspect_based_sentiment_analysis) (2.6.0)\n",
            "Requirement already satisfied: termcolor~=1.1.0 in /usr/local/lib/python3.7/dist-packages (from tensorflow==2.5->aspect_based_sentiment_analysis) (1.1.0)\n",
            "Collecting keras-nightly~=2.5.0.dev\n",
            "  Downloading keras_nightly-2.5.0.dev2021032900-py2.py3-none-any.whl (1.2 MB)\n",
            "\u001b[K     |████████████████████████████████| 1.2 MB 29.1 MB/s \n",
            "\u001b[?25hRequirement already satisfied: flatbuffers~=1.12.0 in /usr/local/lib/python3.7/dist-packages (from tensorflow==2.5->aspect_based_sentiment_analysis) (1.12)\n",
            "Requirement already satisfied: numpy~=1.19.2 in /usr/local/lib/python3.7/dist-packages (from tensorflow==2.5->aspect_based_sentiment_analysis) (1.19.5)\n",
            "Collecting tensorflow-estimator<2.6.0,>=2.5.0rc0\n",
            "  Downloading tensorflow_estimator-2.5.0-py2.py3-none-any.whl (462 kB)\n",
            "\u001b[K     |████████████████████████████████| 462 kB 51.6 MB/s \n",
            "\u001b[?25hRequirement already satisfied: gast==0.4.0 in /usr/local/lib/python3.7/dist-packages (from tensorflow==2.5->aspect_based_sentiment_analysis) (0.4.0)\n",
            "Requirement already satisfied: protobuf>=3.9.2 in /usr/local/lib/python3.7/dist-packages (from tensorflow==2.5->aspect_based_sentiment_analysis) (3.17.3)\n",
            "Requirement already satisfied: astunparse~=1.6.3 in /usr/local/lib/python3.7/dist-packages (from tensorflow==2.5->aspect_based_sentiment_analysis) (1.6.3)\n",
            "Requirement already satisfied: regex!=2019.12.17 in /usr/local/lib/python3.7/dist-packages (from transformers==4.8->aspect_based_sentiment_analysis) (2019.12.20)\n",
            "Collecting sacremoses\n",
            "  Downloading sacremoses-0.0.45-py3-none-any.whl (895 kB)\n",
            "\u001b[K     |████████████████████████████████| 895 kB 47.6 MB/s \n",
            "\u001b[?25hCollecting tokenizers<0.11,>=0.10.1\n",
            "  Downloading tokenizers-0.10.3-cp37-cp37m-manylinux_2_5_x86_64.manylinux1_x86_64.manylinux_2_12_x86_64.manylinux2010_x86_64.whl (3.3 MB)\n",
            "\u001b[K     |████████████████████████████████| 3.3 MB 51.4 MB/s \n",
            "\u001b[?25hCollecting huggingface-hub==0.0.12\n",
            "  Downloading huggingface_hub-0.0.12-py3-none-any.whl (37 kB)\n",
            "Requirement already satisfied: requests in /usr/local/lib/python3.7/dist-packages (from transformers==4.8->aspect_based_sentiment_analysis) (2.23.0)\n",
            "Requirement already satisfied: packaging in /usr/local/lib/python3.7/dist-packages (from transformers==4.8->aspect_based_sentiment_analysis) (21.0)\n",
            "Requirement already satisfied: importlib-metadata in /usr/local/lib/python3.7/dist-packages (from transformers==4.8->aspect_based_sentiment_analysis) (4.8.1)\n",
            "Requirement already satisfied: filelock in /usr/local/lib/python3.7/dist-packages (from transformers==4.8->aspect_based_sentiment_analysis) (3.0.12)\n",
            "Requirement already satisfied: tqdm>=4.27 in /usr/local/lib/python3.7/dist-packages (from transformers==4.8->aspect_based_sentiment_analysis) (4.62.2)\n",
            "Requirement already satisfied: pyyaml in /usr/local/lib/python3.7/dist-packages (from transformers==4.8->aspect_based_sentiment_analysis) (3.13)\n",
            "Requirement already satisfied: cached-property in /usr/local/lib/python3.7/dist-packages (from h5py~=3.1.0->tensorflow==2.5->aspect_based_sentiment_analysis) (1.5.2)\n",
            "Requirement already satisfied: pyparsing>=2.0.2 in /usr/local/lib/python3.7/dist-packages (from packaging->transformers==4.8->aspect_based_sentiment_analysis) (2.4.7)\n",
            "Requirement already satisfied: markdown>=2.6.8 in /usr/local/lib/python3.7/dist-packages (from tensorboard~=2.5->tensorflow==2.5->aspect_based_sentiment_analysis) (3.3.4)\n",
            "Requirement already satisfied: tensorboard-plugin-wit>=1.6.0 in /usr/local/lib/python3.7/dist-packages (from tensorboard~=2.5->tensorflow==2.5->aspect_based_sentiment_analysis) (1.8.0)\n",
            "Requirement already satisfied: werkzeug>=0.11.15 in /usr/local/lib/python3.7/dist-packages (from tensorboard~=2.5->tensorflow==2.5->aspect_based_sentiment_analysis) (1.0.1)\n",
            "Requirement already satisfied: google-auth<2,>=1.6.3 in /usr/local/lib/python3.7/dist-packages (from tensorboard~=2.5->tensorflow==2.5->aspect_based_sentiment_analysis) (1.35.0)\n",
            "Requirement already satisfied: google-auth-oauthlib<0.5,>=0.4.1 in /usr/local/lib/python3.7/dist-packages (from tensorboard~=2.5->tensorflow==2.5->aspect_based_sentiment_analysis) (0.4.6)\n",
            "Requirement already satisfied: tensorboard-data-server<0.7.0,>=0.6.0 in /usr/local/lib/python3.7/dist-packages (from tensorboard~=2.5->tensorflow==2.5->aspect_based_sentiment_analysis) (0.6.1)\n",
            "Requirement already satisfied: setuptools>=41.0.0 in /usr/local/lib/python3.7/dist-packages (from tensorboard~=2.5->tensorflow==2.5->aspect_based_sentiment_analysis) (57.4.0)\n",
            "Requirement already satisfied: cachetools<5.0,>=2.0.0 in /usr/local/lib/python3.7/dist-packages (from google-auth<2,>=1.6.3->tensorboard~=2.5->tensorflow==2.5->aspect_based_sentiment_analysis) (4.2.2)\n",
            "Requirement already satisfied: rsa<5,>=3.1.4 in /usr/local/lib/python3.7/dist-packages (from google-auth<2,>=1.6.3->tensorboard~=2.5->tensorflow==2.5->aspect_based_sentiment_analysis) (4.7.2)\n",
            "Requirement already satisfied: pyasn1-modules>=0.2.1 in /usr/local/lib/python3.7/dist-packages (from google-auth<2,>=1.6.3->tensorboard~=2.5->tensorflow==2.5->aspect_based_sentiment_analysis) (0.2.8)\n",
            "Requirement already satisfied: requests-oauthlib>=0.7.0 in /usr/local/lib/python3.7/dist-packages (from google-auth-oauthlib<0.5,>=0.4.1->tensorboard~=2.5->tensorflow==2.5->aspect_based_sentiment_analysis) (1.3.0)\n",
            "Requirement already satisfied: pyasn1<0.5.0,>=0.4.6 in /usr/local/lib/python3.7/dist-packages (from pyasn1-modules>=0.2.1->google-auth<2,>=1.6.3->tensorboard~=2.5->tensorflow==2.5->aspect_based_sentiment_analysis) (0.4.8)\n",
            "Requirement already satisfied: urllib3!=1.25.0,!=1.25.1,<1.26,>=1.21.1 in /usr/local/lib/python3.7/dist-packages (from requests->transformers==4.8->aspect_based_sentiment_analysis) (1.24.3)\n",
            "Requirement already satisfied: certifi>=2017.4.17 in /usr/local/lib/python3.7/dist-packages (from requests->transformers==4.8->aspect_based_sentiment_analysis) (2021.5.30)\n",
            "Requirement already satisfied: idna<3,>=2.5 in /usr/local/lib/python3.7/dist-packages (from requests->transformers==4.8->aspect_based_sentiment_analysis) (2.10)\n",
            "Requirement already satisfied: chardet<4,>=3.0.2 in /usr/local/lib/python3.7/dist-packages (from requests->transformers==4.8->aspect_based_sentiment_analysis) (3.0.4)\n",
            "Requirement already satisfied: oauthlib>=3.0.0 in /usr/local/lib/python3.7/dist-packages (from requests-oauthlib>=0.7.0->google-auth-oauthlib<0.5,>=0.4.1->tensorboard~=2.5->tensorflow==2.5->aspect_based_sentiment_analysis) (3.1.1)\n",
            "Requirement already satisfied: google-resumable-media<0.5.0dev,>=0.3.1 in /usr/local/lib/python3.7/dist-packages (from google-cloud-storage->aspect_based_sentiment_analysis) (0.4.1)\n",
            "Requirement already satisfied: google-cloud-core<2.0dev,>=1.0.0 in /usr/local/lib/python3.7/dist-packages (from google-cloud-storage->aspect_based_sentiment_analysis) (1.0.3)\n",
            "Requirement already satisfied: google-api-core<2.0.0dev,>=1.14.0 in /usr/local/lib/python3.7/dist-packages (from google-cloud-core<2.0dev,>=1.0.0->google-cloud-storage->aspect_based_sentiment_analysis) (1.26.3)\n",
            "Requirement already satisfied: googleapis-common-protos<2.0dev,>=1.6.0 in /usr/local/lib/python3.7/dist-packages (from google-api-core<2.0.0dev,>=1.14.0->google-cloud-core<2.0dev,>=1.0.0->google-cloud-storage->aspect_based_sentiment_analysis) (1.53.0)\n",
            "Requirement already satisfied: pytz in /usr/local/lib/python3.7/dist-packages (from google-api-core<2.0.0dev,>=1.14.0->google-cloud-core<2.0dev,>=1.0.0->google-cloud-storage->aspect_based_sentiment_analysis) (2018.9)\n",
            "Requirement already satisfied: zipp>=0.5 in /usr/local/lib/python3.7/dist-packages (from importlib-metadata->transformers==4.8->aspect_based_sentiment_analysis) (3.5.0)\n",
            "Requirement already satisfied: pexpect in /usr/local/lib/python3.7/dist-packages (from ipython->aspect_based_sentiment_analysis) (4.8.0)\n",
            "Requirement already satisfied: simplegeneric>0.8 in /usr/local/lib/python3.7/dist-packages (from ipython->aspect_based_sentiment_analysis) (0.8.1)\n",
            "Requirement already satisfied: prompt-toolkit<2.0.0,>=1.0.4 in /usr/local/lib/python3.7/dist-packages (from ipython->aspect_based_sentiment_analysis) (1.0.18)\n",
            "Requirement already satisfied: traitlets>=4.2 in /usr/local/lib/python3.7/dist-packages (from ipython->aspect_based_sentiment_analysis) (5.1.0)\n",
            "Requirement already satisfied: pygments in /usr/local/lib/python3.7/dist-packages (from ipython->aspect_based_sentiment_analysis) (2.6.1)\n",
            "Requirement already satisfied: decorator in /usr/local/lib/python3.7/dist-packages (from ipython->aspect_based_sentiment_analysis) (4.4.2)\n",
            "Requirement already satisfied: pickleshare in /usr/local/lib/python3.7/dist-packages (from ipython->aspect_based_sentiment_analysis) (0.7.5)\n",
            "Requirement already satisfied: wcwidth in /usr/local/lib/python3.7/dist-packages (from prompt-toolkit<2.0.0,>=1.0.4->ipython->aspect_based_sentiment_analysis) (0.2.5)\n",
            "Collecting alembic\n",
            "  Downloading alembic-1.7.3-py3-none-any.whl (208 kB)\n",
            "\u001b[K     |████████████████████████████████| 208 kB 61.9 MB/s \n",
            "\u001b[?25hCollecting cmaes>=0.8.2\n",
            "  Downloading cmaes-0.8.2-py3-none-any.whl (15 kB)\n",
            "Requirement already satisfied: scipy!=1.4.0 in /usr/local/lib/python3.7/dist-packages (from optuna->aspect_based_sentiment_analysis) (1.4.1)\n",
            "Collecting colorlog\n",
            "  Downloading colorlog-6.4.1-py2.py3-none-any.whl (11 kB)\n",
            "Requirement already satisfied: sqlalchemy>=1.1.0 in /usr/local/lib/python3.7/dist-packages (from optuna->aspect_based_sentiment_analysis) (1.4.23)\n",
            "Collecting cliff\n",
            "  Downloading cliff-3.9.0-py3-none-any.whl (80 kB)\n",
            "\u001b[K     |████████████████████████████████| 80 kB 8.9 MB/s \n",
            "\u001b[?25hRequirement already satisfied: greenlet!=0.4.17 in /usr/local/lib/python3.7/dist-packages (from sqlalchemy>=1.1.0->optuna->aspect_based_sentiment_analysis) (1.1.1)\n",
            "Requirement already satisfied: importlib-resources in /usr/local/lib/python3.7/dist-packages (from alembic->optuna->aspect_based_sentiment_analysis) (5.2.2)\n",
            "Collecting Mako\n",
            "  Downloading Mako-1.1.5-py2.py3-none-any.whl (75 kB)\n",
            "\u001b[K     |████████████████████████████████| 75 kB 4.6 MB/s \n",
            "\u001b[?25hCollecting autopage>=0.4.0\n",
            "  Downloading autopage-0.4.0-py3-none-any.whl (20 kB)\n",
            "Requirement already satisfied: PrettyTable>=0.7.2 in /usr/local/lib/python3.7/dist-packages (from cliff->optuna->aspect_based_sentiment_analysis) (2.2.0)\n",
            "Collecting cmd2>=1.0.0\n",
            "  Downloading cmd2-2.2.0-py3-none-any.whl (144 kB)\n",
            "\u001b[K     |████████████████████████████████| 144 kB 60.4 MB/s \n",
            "\u001b[?25hCollecting pbr!=2.1.0,>=2.0.0\n",
            "  Downloading pbr-5.6.0-py2.py3-none-any.whl (111 kB)\n",
            "\u001b[K     |████████████████████████████████| 111 kB 63.3 MB/s \n",
            "\u001b[?25hCollecting stevedore>=2.0.1\n",
            "  Downloading stevedore-3.4.0-py3-none-any.whl (49 kB)\n",
            "\u001b[K     |████████████████████████████████| 49 kB 6.4 MB/s \n",
            "\u001b[?25hCollecting pyperclip>=1.6\n",
            "  Downloading pyperclip-1.8.2.tar.gz (20 kB)\n",
            "Collecting colorama>=0.3.7\n",
            "  Downloading colorama-0.4.4-py2.py3-none-any.whl (16 kB)\n",
            "Requirement already satisfied: attrs>=16.3.0 in /usr/local/lib/python3.7/dist-packages (from cmd2>=1.0.0->cliff->optuna->aspect_based_sentiment_analysis) (21.2.0)\n",
            "Requirement already satisfied: MarkupSafe>=0.9.2 in /usr/local/lib/python3.7/dist-packages (from Mako->alembic->optuna->aspect_based_sentiment_analysis) (2.0.1)\n",
            "Requirement already satisfied: ptyprocess>=0.5 in /usr/local/lib/python3.7/dist-packages (from pexpect->ipython->aspect_based_sentiment_analysis) (0.7.0)\n",
            "Requirement already satisfied: more-itertools>=4.0.0 in /usr/local/lib/python3.7/dist-packages (from pytest->aspect_based_sentiment_analysis) (8.9.0)\n",
            "Requirement already satisfied: py>=1.5.0 in /usr/local/lib/python3.7/dist-packages (from pytest->aspect_based_sentiment_analysis) (1.10.0)\n",
            "Requirement already satisfied: pluggy<0.8,>=0.5 in /usr/local/lib/python3.7/dist-packages (from pytest->aspect_based_sentiment_analysis) (0.7.1)\n",
            "Requirement already satisfied: atomicwrites>=1.0 in /usr/local/lib/python3.7/dist-packages (from pytest->aspect_based_sentiment_analysis) (1.4.0)\n",
            "Requirement already satisfied: click in /usr/local/lib/python3.7/dist-packages (from sacremoses->transformers==4.8->aspect_based_sentiment_analysis) (7.1.2)\n",
            "Requirement already satisfied: joblib in /usr/local/lib/python3.7/dist-packages (from sacremoses->transformers==4.8->aspect_based_sentiment_analysis) (1.0.1)\n",
            "Requirement already satisfied: thinc==7.4.0 in /usr/local/lib/python3.7/dist-packages (from spacy->aspect_based_sentiment_analysis) (7.4.0)\n",
            "Requirement already satisfied: murmurhash<1.1.0,>=0.28.0 in /usr/local/lib/python3.7/dist-packages (from spacy->aspect_based_sentiment_analysis) (1.0.5)\n",
            "Requirement already satisfied: blis<0.5.0,>=0.4.0 in /usr/local/lib/python3.7/dist-packages (from spacy->aspect_based_sentiment_analysis) (0.4.1)\n",
            "Requirement already satisfied: preshed<3.1.0,>=3.0.2 in /usr/local/lib/python3.7/dist-packages (from spacy->aspect_based_sentiment_analysis) (3.0.5)\n",
            "Requirement already satisfied: srsly<1.1.0,>=1.0.2 in /usr/local/lib/python3.7/dist-packages (from spacy->aspect_based_sentiment_analysis) (1.0.5)\n",
            "Requirement already satisfied: catalogue<1.1.0,>=0.0.7 in /usr/local/lib/python3.7/dist-packages (from spacy->aspect_based_sentiment_analysis) (1.0.0)\n",
            "Requirement already satisfied: plac<1.2.0,>=0.9.6 in /usr/local/lib/python3.7/dist-packages (from spacy->aspect_based_sentiment_analysis) (1.1.3)\n",
            "Requirement already satisfied: cymem<2.1.0,>=2.0.2 in /usr/local/lib/python3.7/dist-packages (from spacy->aspect_based_sentiment_analysis) (2.0.5)\n",
            "Requirement already satisfied: wasabi<1.1.0,>=0.4.0 in /usr/local/lib/python3.7/dist-packages (from spacy->aspect_based_sentiment_analysis) (0.8.2)\n",
            "Building wheels for collected packages: pyperclip\n",
            "  Building wheel for pyperclip (setup.py) ... \u001b[?25l\u001b[?25hdone\n",
            "  Created wheel for pyperclip: filename=pyperclip-1.8.2-py3-none-any.whl size=11136 sha256=99c41780442004089d5d35d82d7ac133b3b2af81b566399fad45dbf4c7dab300\n",
            "  Stored in directory: /root/.cache/pip/wheels/9f/18/84/8f69f8b08169c7bae2dde6bd7daf0c19fca8c8e500ee620a28\n",
            "Successfully built pyperclip\n",
            "Installing collected packages: pyperclip, pbr, colorama, stevedore, Mako, grpcio, cmd2, autopage, tokenizers, tensorflow-estimator, sacremoses, keras-nightly, huggingface-hub, colorlog, cmaes, cliff, alembic, transformers, testfixtures, tensorflow, optuna, aspect-based-sentiment-analysis\n",
            "  Attempting uninstall: grpcio\n",
            "    Found existing installation: grpcio 1.40.0\n",
            "    Uninstalling grpcio-1.40.0:\n",
            "      Successfully uninstalled grpcio-1.40.0\n",
            "  Attempting uninstall: tensorflow-estimator\n",
            "    Found existing installation: tensorflow-estimator 2.6.0\n",
            "    Uninstalling tensorflow-estimator-2.6.0:\n",
            "      Successfully uninstalled tensorflow-estimator-2.6.0\n",
            "  Attempting uninstall: tensorflow\n",
            "    Found existing installation: tensorflow 2.6.0\n",
            "    Uninstalling tensorflow-2.6.0:\n",
            "      Successfully uninstalled tensorflow-2.6.0\n",
            "Successfully installed Mako-1.1.5 alembic-1.7.3 aspect-based-sentiment-analysis-2.0.3 autopage-0.4.0 cliff-3.9.0 cmaes-0.8.2 cmd2-2.2.0 colorama-0.4.4 colorlog-6.4.1 grpcio-1.34.1 huggingface-hub-0.0.12 keras-nightly-2.5.0.dev2021032900 optuna-2.9.1 pbr-5.6.0 pyperclip-1.8.2 sacremoses-0.0.45 stevedore-3.4.0 tensorflow-2.5.0 tensorflow-estimator-2.5.0 testfixtures-6.18.2 tokenizers-0.10.3 transformers-4.8.0\n"
          ]
        }
      ]
    },
    {
      "cell_type": "code",
      "metadata": {
        "colab": {
          "base_uri": "https://localhost:8080/"
        },
        "id": "oHt5q4eacn5V",
        "outputId": "fbc2651c-a48f-4f54-90a5-17a2c433d15b"
      },
      "source": [
        "import aspect_based_sentiment_analysis as absa\n",
        "\n",
        "nlp = absa.load()\n",
        "text = (\"I was so lucky today. I won the grand prize.\")\n",
        "pprint(nlp(text, aspects=['I', 'prize']))"
      ],
      "execution_count": 10,
      "outputs": [
        {
          "output_type": "stream",
          "name": "stderr",
          "text": [
            "Some layers from the model checkpoint at absa/classifier-rest-0.2 were not used when initializing BertABSClassifier: ['dropout_379']\n",
            "- This IS expected if you are initializing BertABSClassifier from the checkpoint of a model trained on another task or with another architecture (e.g. initializing a BertForSequenceClassification model from a BertForPreTraining model).\n",
            "- This IS NOT expected if you are initializing BertABSClassifier from the checkpoint of a model that you expect to be exactly identical (initializing a BertForSequenceClassification model from a BertForSequenceClassification model).\n",
            "Some layers of BertABSClassifier were not initialized from the model checkpoint at absa/classifier-rest-0.2 and are newly initialized: ['dropout_113']\n",
            "You should probably TRAIN this model on a down-stream task to be able to use it for predictions and inference.\n"
          ]
        },
        {
          "output_type": "stream",
          "name": "stdout",
          "text": [
            "CompletedTask(text='I was so lucky today. I won the grand prize.', aspects=['I', 'prize'], subtasks=OrderedDict([('I', CompletedSubTask(text='I was so lucky today. I won the grand prize.', aspect='I', examples=[PredictedExample(text='I was so lucky today. I won the grand prize.', aspect='I', sentiment=<Sentiment.positive: 2>, text_tokens=['i', 'was', 'so', 'lucky', 'today', '.', 'i', 'won', 'the', 'grand', 'prize', '.'], text_subtokens=['i', 'was', 'so', 'lucky', 'today', '.', 'i', 'won', 'the', 'grand', 'prize', '.'], aspect_tokens=['i'], aspect_subtokens=['i'], tokens=['[CLS]', 'i', 'was', 'so', 'lucky', 'today', '.', 'i', 'won', 'the', 'grand', 'prize', '.', '[SEP]', 'i', '[SEP]'], subtokens=['[CLS]', 'i', 'was', 'so', 'lucky', 'today', '.', 'i', 'won', 'the', 'grand', 'prize', '.', '[SEP]', 'i', '[SEP]'], alignment=[[0], [1], [2], [3], [4], [5], [6], [7], [8], [9], [10], [11], [12], [13], [14], [15]], scores=[0.0028238886, 0.0012040298, 0.9959721], review=Review(is_reference=None, patterns=None))], sentiment=<Sentiment.positive: 2>, scores=[0.0028238886, 0.0012040298, 0.9959721])), ('prize', CompletedSubTask(text='I was so lucky today. I won the grand prize.', aspect='prize', examples=[PredictedExample(text='I was so lucky today. I won the grand prize.', aspect='prize', sentiment=<Sentiment.positive: 2>, text_tokens=['i', 'was', 'so', 'lucky', 'today', '.', 'i', 'won', 'the', 'grand', 'prize', '.'], text_subtokens=['i', 'was', 'so', 'lucky', 'today', '.', 'i', 'won', 'the', 'grand', 'prize', '.'], aspect_tokens=['prize'], aspect_subtokens=['prize'], tokens=['[CLS]', 'i', 'was', 'so', 'lucky', 'today', '.', 'i', 'won', 'the', 'grand', 'prize', '.', '[SEP]', 'prize', '[SEP]'], subtokens=['[CLS]', 'i', 'was', 'so', 'lucky', 'today', '.', 'i', 'won', 'the', 'grand', 'prize', '.', '[SEP]', 'prize', '[SEP]'], alignment=[[0], [1], [2], [3], [4], [5], [6], [7], [8], [9], [10], [11], [12], [13], [14], [15]], scores=[0.0009927283, 0.0008264503, 0.99818087], review=Review(is_reference=None, patterns=None))], sentiment=<Sentiment.positive: 2>, scores=[0.0009927283, 0.0008264503, 0.99818087]))]))\n"
          ]
        }
      ]
    },
    {
      "cell_type": "code",
      "metadata": {
        "colab": {
          "base_uri": "https://localhost:8080/"
        },
        "id": "-aZWXMXYcoa8",
        "outputId": "dcea0363-22ee-4790-9fe5-7fc1d9aab2cf"
      },
      "source": [
        "recognizer = absa.aux_models.BasicPatternRecognizer()\n",
        "nlp = absa.load(pattern_recognizer=recognizer)\n",
        "completed_task = nlp(text=text, aspects=['I', 'prize'])\n",
        "I, prize = completed_task.examples"
      ],
      "execution_count": 12,
      "outputs": [
        {
          "output_type": "stream",
          "name": "stderr",
          "text": [
            "Some layers from the model checkpoint at absa/classifier-rest-0.2 were not used when initializing BertABSClassifier: ['dropout_379']\n",
            "- This IS expected if you are initializing BertABSClassifier from the checkpoint of a model trained on another task or with another architecture (e.g. initializing a BertForSequenceClassification model from a BertForPreTraining model).\n",
            "- This IS NOT expected if you are initializing BertABSClassifier from the checkpoint of a model that you expect to be exactly identical (initializing a BertForSequenceClassification model from a BertForSequenceClassification model).\n",
            "Some layers of BertABSClassifier were not initialized from the model checkpoint at absa/classifier-rest-0.2 and are newly initialized: ['dropout_189']\n",
            "You should probably TRAIN this model on a down-stream task to be able to use it for predictions and inference.\n"
          ]
        }
      ]
    },
    {
      "cell_type": "code",
      "metadata": {
        "colab": {
          "base_uri": "https://localhost:8080/",
          "height": 134
        },
        "id": "ymn7AK_UjGF7",
        "outputId": "48854dbd-4c98-42ef-ac52-928cdf855734"
      },
      "source": [
        "absa.summary(I)\n",
        "absa.display(I.review)"
      ],
      "execution_count": 13,
      "outputs": [
        {
          "output_type": "stream",
          "name": "stdout",
          "text": [
            "Sentiment.positive for \"I\"\n",
            "Scores (neutral/negative/positive): [0.003 0.001 0.996]\n"
          ]
        },
        {
          "output_type": "display_data",
          "data": {
            "text/html": [
              "<span style=\"background-color:rgba(180,180,180,1.1111111111111112);\">Importance 1.00</span> <span style=\"background-color:rgba(135,206,250,0.5);\">i</span> <span style=\"background-color:rgba(135,206,250,0.425);\">was</span> <span style=\"background-color:rgba(135,206,250,0.5249999999999999);\">so</span> <span style=\"background-color:rgba(135,206,250,1.25);\">lucky</span> <span style=\"background-color:rgba(135,206,250,0.7875);\">today</span> <span style=\"background-color:rgba(135,206,250,0.4875);\">.</span> <span style=\"background-color:rgba(135,206,250,0.18749999999999997);\">i</span> <span style=\"background-color:rgba(135,206,250,0.35000000000000003);\">won</span> <span style=\"background-color:rgba(135,206,250,0.18749999999999997);\">the</span> <span style=\"background-color:rgba(135,206,250,0.19999999999999998);\">grand</span> <span style=\"background-color:rgba(135,206,250,0.38749999999999996);\">prize</span> <span style=\"background-color:rgba(135,206,250,0.3375);\">.</span><br> <span style=\"background-color:rgba(180,180,180,0.8555555555555555);\">Importance 0.77</span> <span style=\"background-color:rgba(135,206,250,0.09999999999999999);\">i</span> <span style=\"background-color:rgba(135,206,250,0.13749999999999998);\">was</span> <span style=\"background-color:rgba(135,206,250,0.19999999999999998);\">so</span> <span style=\"background-color:rgba(135,206,250,0.425);\">lucky</span> <span style=\"background-color:rgba(135,206,250,0.27499999999999997);\">today</span> <span style=\"background-color:rgba(135,206,250,0.2125);\">.</span> <span style=\"background-color:rgba(135,206,250,0.27499999999999997);\">i</span> <span style=\"background-color:rgba(135,206,250,0.7249999999999999);\">won</span> <span style=\"background-color:rgba(135,206,250,0.37499999999999994);\">the</span> <span style=\"background-color:rgba(135,206,250,0.9625);\">grand</span> <span style=\"background-color:rgba(135,206,250,0.9625);\">prize</span> <span style=\"background-color:rgba(135,206,250,0.46249999999999997);\">.</span><br> <span style=\"background-color:rgba(180,180,180,0.6333333333333333);\">Importance 0.57</span> <span style=\"background-color:rgba(135,206,250,0.08750000000000001);\">i</span> <span style=\"background-color:rgba(135,206,250,0.09999999999999999);\">was</span> <span style=\"background-color:rgba(135,206,250,0.09999999999999999);\">so</span> <span style=\"background-color:rgba(135,206,250,0.2875);\">lucky</span> <span style=\"background-color:rgba(135,206,250,0.1625);\">today</span> <span style=\"background-color:rgba(135,206,250,0.2875);\">.</span> <span style=\"background-color:rgba(135,206,250,0.26249999999999996);\">i</span> <span style=\"background-color:rgba(135,206,250,0.7124999999999999);\">won</span> <span style=\"background-color:rgba(135,206,250,0.25);\">the</span> <span style=\"background-color:rgba(135,206,250,0.3);\">grand</span> <span style=\"background-color:rgba(135,206,250,0.7124999999999999);\">prize</span> <span style=\"background-color:rgba(135,206,250,0.2125);\">.</span><br> <span style=\"background-color:rgba(180,180,180,0.5666666666666667);\">Importance 0.51</span> <span style=\"background-color:rgba(135,206,250,0.15);\">i</span> <span style=\"background-color:rgba(135,206,250,0.1625);\">was</span> <span style=\"background-color:rgba(135,206,250,0.26249999999999996);\">so</span> <span style=\"background-color:rgba(135,206,250,0.6375);\">lucky</span> <span style=\"background-color:rgba(135,206,250,0.425);\">today</span> <span style=\"background-color:rgba(135,206,250,0.6375);\">.</span> <span style=\"background-color:rgba(135,206,250,0.2375);\">i</span> <span style=\"background-color:rgba(135,206,250,0.3125);\">won</span> <span style=\"background-color:rgba(135,206,250,0.13749999999999998);\">the</span> <span style=\"background-color:rgba(135,206,250,0.15);\">grand</span> <span style=\"background-color:rgba(135,206,250,0.2875);\">prize</span> <span style=\"background-color:rgba(135,206,250,0.5249999999999999);\">.</span><br> <span style=\"background-color:rgba(180,180,180,0.5666666666666667);\">Importance 0.51</span> <span style=\"background-color:rgba(135,206,250,0.08750000000000001);\">i</span> <span style=\"background-color:rgba(135,206,250,0.125);\">was</span> <span style=\"background-color:rgba(135,206,250,0.075);\">so</span> <span style=\"background-color:rgba(135,206,250,0.15);\">lucky</span> <span style=\"background-color:rgba(135,206,250,0.13749999999999998);\">today</span> <span style=\"background-color:rgba(135,206,250,0.37499999999999994);\">.</span> <span style=\"background-color:rgba(135,206,250,0.08750000000000001);\">i</span> <span style=\"background-color:rgba(135,206,250,0.22499999999999998);\">won</span> <span style=\"background-color:rgba(135,206,250,0.09999999999999999);\">the</span> <span style=\"background-color:rgba(135,206,250,0.15);\">grand</span> <span style=\"background-color:rgba(135,206,250,0.3);\">prize</span> <span style=\"background-color:rgba(135,206,250,0.6375);\">.</span><br>"
            ],
            "text/plain": [
              "<IPython.core.display.HTML object>"
            ]
          },
          "metadata": {}
        }
      ]
    },
    {
      "cell_type": "code",
      "metadata": {
        "colab": {
          "base_uri": "https://localhost:8080/",
          "height": 134
        },
        "id": "YPU8DgzCjGKB",
        "outputId": "80373fd5-d5c4-471e-a438-3ea5e7786daa"
      },
      "source": [
        "absa.summary(prize)\n",
        "absa.display(prize.review)"
      ],
      "execution_count": 14,
      "outputs": [
        {
          "output_type": "stream",
          "name": "stdout",
          "text": [
            "Sentiment.positive for \"prize\"\n",
            "Scores (neutral/negative/positive): [0.001 0.001 0.998]\n"
          ]
        },
        {
          "output_type": "display_data",
          "data": {
            "text/html": [
              "<span style=\"background-color:rgba(180,180,180,1.1111111111111112);\">Importance 1.00</span> <span style=\"background-color:rgba(135,206,250,0.075);\">i</span> <span style=\"background-color:rgba(135,206,250,0.0625);\">was</span> <span style=\"background-color:rgba(135,206,250,0.1625);\">so</span> <span style=\"background-color:rgba(135,206,250,0.2875);\">lucky</span> <span style=\"background-color:rgba(135,206,250,0.11249999999999999);\">today</span> <span style=\"background-color:rgba(135,206,250,0.11249999999999999);\">.</span> <span style=\"background-color:rgba(135,206,250,0.1625);\">i</span> <span style=\"background-color:rgba(135,206,250,0.38749999999999996);\">won</span> <span style=\"background-color:rgba(135,206,250,0.3125);\">the</span> <span style=\"background-color:rgba(135,206,250,1.25);\">grand</span> <span style=\"background-color:rgba(135,206,250,1.25);\">prize</span> <span style=\"background-color:rgba(135,206,250,0.19999999999999998);\">.</span><br> <span style=\"background-color:rgba(180,180,180,0.4555555555555555);\">Importance 0.41</span> <span style=\"background-color:rgba(135,206,250,0.024999999999999998);\">i</span> <span style=\"background-color:rgba(135,206,250,0.0375);\">was</span> <span style=\"background-color:rgba(135,206,250,0.075);\">so</span> <span style=\"background-color:rgba(135,206,250,0.1625);\">lucky</span> <span style=\"background-color:rgba(135,206,250,0.0625);\">today</span> <span style=\"background-color:rgba(135,206,250,0.09999999999999999);\">.</span> <span style=\"background-color:rgba(135,206,250,0.1625);\">i</span> <span style=\"background-color:rgba(135,206,250,0.5125);\">won</span> <span style=\"background-color:rgba(135,206,250,0.125);\">the</span> <span style=\"background-color:rgba(135,206,250,0.13749999999999998);\">grand</span> <span style=\"background-color:rgba(135,206,250,0.5125);\">prize</span> <span style=\"background-color:rgba(135,206,250,0.09999999999999999);\">.</span><br> <span style=\"background-color:rgba(180,180,180,0.2888888888888889);\">Importance 0.26</span> <span style=\"background-color:rgba(135,206,250,0.0375);\">i</span> <span style=\"background-color:rgba(135,206,250,0.0375);\">was</span> <span style=\"background-color:rgba(135,206,250,0.049999999999999996);\">so</span> <span style=\"background-color:rgba(135,206,250,0.11249999999999999);\">lucky</span> <span style=\"background-color:rgba(135,206,250,0.075);\">today</span> <span style=\"background-color:rgba(135,206,250,0.075);\">.</span> <span style=\"background-color:rgba(135,206,250,0.075);\">i</span> <span style=\"background-color:rgba(135,206,250,0.2875);\">won</span> <span style=\"background-color:rgba(135,206,250,0.17500000000000002);\">the</span> <span style=\"background-color:rgba(135,206,250,0.325);\">grand</span> <span style=\"background-color:rgba(135,206,250,0.325);\">prize</span> <span style=\"background-color:rgba(135,206,250,0.1625);\">.</span><br> <span style=\"background-color:rgba(180,180,180,0.26666666666666666);\">Importance 0.24</span> <span style=\"background-color:rgba(135,206,250,0.024999999999999998);\">i</span> <span style=\"background-color:rgba(135,206,250,0.0375);\">was</span> <span style=\"background-color:rgba(135,206,250,0.075);\">so</span> <span style=\"background-color:rgba(135,206,250,0.15);\">lucky</span> <span style=\"background-color:rgba(135,206,250,0.0375);\">today</span> <span style=\"background-color:rgba(135,206,250,0.08750000000000001);\">.</span> <span style=\"background-color:rgba(135,206,250,0.125);\">i</span> <span style=\"background-color:rgba(135,206,250,0.3);\">won</span> <span style=\"background-color:rgba(135,206,250,0.3);\">the</span> <span style=\"background-color:rgba(135,206,250,0.2375);\">grand</span> <span style=\"background-color:rgba(135,206,250,0.2875);\">prize</span> <span style=\"background-color:rgba(135,206,250,0.0625);\">.</span><br> <span style=\"background-color:rgba(180,180,180,0.16666666666666666);\">Importance 0.15</span> <span style=\"background-color:rgba(135,206,250,0.024999999999999998);\">i</span> <span style=\"background-color:rgba(135,206,250,0.0375);\">was</span> <span style=\"background-color:rgba(135,206,250,0.0375);\">so</span> <span style=\"background-color:rgba(135,206,250,0.0375);\">lucky</span> <span style=\"background-color:rgba(135,206,250,0.049999999999999996);\">today</span> <span style=\"background-color:rgba(135,206,250,0.1625);\">.</span> <span style=\"background-color:rgba(135,206,250,0.049999999999999996);\">i</span> <span style=\"background-color:rgba(135,206,250,0.11249999999999999);\">won</span> <span style=\"background-color:rgba(135,206,250,0.049999999999999996);\">the</span> <span style=\"background-color:rgba(135,206,250,0.049999999999999996);\">grand</span> <span style=\"background-color:rgba(135,206,250,0.18749999999999997);\">prize</span> <span style=\"background-color:rgba(135,206,250,0.18749999999999997);\">.</span><br>"
            ],
            "text/plain": [
              "<IPython.core.display.HTML object>"
            ]
          },
          "metadata": {}
        }
      ]
    },
    {
      "cell_type": "code",
      "metadata": {
        "id": "reBIZ-33izPZ"
      },
      "source": [
        ""
      ],
      "execution_count": null,
      "outputs": []
    }
  ]
}