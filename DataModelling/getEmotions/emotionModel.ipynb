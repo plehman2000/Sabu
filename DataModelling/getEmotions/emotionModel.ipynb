{
 "cells": [
  {
   "cell_type": "code",
   "execution_count": 1,
   "metadata": {},
   "outputs": [
    {
     "name": "stdout",
     "output_type": "stream",
     "text": [
      "All Probabilities RAW: [array([0.53853714, 0.6085167 , 0.01515286, 0.00804941, 0.02691599],\n",
      "      dtype=float32), array([0.01777032, 0.02384369, 0.01386319, 0.94070214, 0.02894909],\n",
      "      dtype=float32)]\n",
      "\n",
      "\n",
      "Text: \"i hate dogs!\"\n",
      "53.85% anger, 60.85% disgust, 1.52% fear, 0.80% joy, 2.69% sadness\n",
      "Text: \"I love pretty cats!\"\n",
      "1.78% anger, 2.38% disgust, 1.39% fear, 94.07% joy, 2.89% sadness\n"
     ]
    }
   ],
   "source": [
    "from getEmotions import emotionInference\n",
    "samples = [\"i hate dogs!\", \"I love pretty cats!\"]\n",
    "probs = emotionInference(samples)"
   ]
  }
 ],
 "metadata": {
  "interpreter": {
   "hash": "cce259c0d54fe5bffe13af26804447aa3dbdd9a7daf1d33523d66f0df070ca6e"
  },
  "kernelspec": {
   "display_name": "PyTorch-1.10",
   "language": "python",
   "name": "python3"
  },
  "language_info": {
   "codemirror_mode": {
    "name": "ipython",
    "version": 3
   },
   "file_extension": ".py",
   "mimetype": "text/x-python",
   "name": "python",
   "nbconvert_exporter": "python",
   "pygments_lexer": "ipython3",
   "version": "3.7.11"
  }
 },
 "nbformat": 4,
 "nbformat_minor": 4
}
